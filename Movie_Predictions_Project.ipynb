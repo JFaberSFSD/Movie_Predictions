{
 "cells": [
  {
   "cell_type": "markdown",
   "id": "2a59545b",
   "metadata": {},
   "source": [
    "### Grab our imports"
   ]
  },
  {
   "cell_type": "code",
   "execution_count": 1,
   "id": "cd0827cc",
   "metadata": {},
   "outputs": [],
   "source": [
    "import pandas as pd\n",
    "import numpy as np"
   ]
  },
  {
   "cell_type": "markdown",
   "id": "bb72a23e",
   "metadata": {},
   "source": [
    "### Assign our URLs to variables and create our dataframes"
   ]
  },
  {
   "cell_type": "code",
   "execution_count": 2,
   "id": "64db9897",
   "metadata": {},
   "outputs": [],
   "source": [
    "basics_url=\"https://datasets.imdbws.com/title.basics.tsv.gz\"\n",
    "akas_url=\"https://datasets.imdbws.com/title.akas.tsv.gz\"\n",
    "ratings_url=\"https://datasets.imdbws.com/title.ratings.tsv.gz\""
   ]
  },
  {
   "cell_type": "code",
   "execution_count": 3,
   "id": "b4339c46",
   "metadata": {},
   "outputs": [],
   "source": [
    "basics_df = pd.read_csv(basics_url, sep='\\t', low_memory=False)"
   ]
  },
  {
   "cell_type": "code",
   "execution_count": 4,
   "id": "09ef0411",
   "metadata": {},
   "outputs": [],
   "source": [
    "akas_df = pd.read_csv(akas_url, sep='\\t', low_memory=False)"
   ]
  },
  {
   "cell_type": "code",
   "execution_count": 5,
   "id": "47e6af4d",
   "metadata": {},
   "outputs": [],
   "source": [
    "ratings_df = pd.read_csv(ratings_url, sep='\\t', low_memory=False)"
   ]
  },
  {
   "cell_type": "markdown",
   "id": "af7bef01",
   "metadata": {},
   "source": [
    "### Replace \"/N\" in our dataframes with true numpy null value"
   ]
  },
  {
   "cell_type": "code",
   "execution_count": 6,
   "id": "dbc0e6a9",
   "metadata": {},
   "outputs": [],
   "source": [
    "basics_df = basics_df.replace({'\\\\N':np.nan})\n",
    "akas_df = akas_df.replace({'\\\\N':np.nan})\n",
    "ratings_df = ratings_df.replace({'\\\\N':np.nan})"
   ]
  },
  {
   "cell_type": "markdown",
   "id": "4b2ae119",
   "metadata": {},
   "source": [
    "### Drop all rows without a runtime listed"
   ]
  },
  {
   "cell_type": "code",
   "execution_count": 7,
   "id": "a9800f08",
   "metadata": {},
   "outputs": [
    {
     "name": "stdout",
     "output_type": "stream",
     "text": [
      "<class 'pandas.core.frame.DataFrame'>\n",
      "Int64Index: 2471921 entries, 0 to 9221339\n",
      "Data columns (total 9 columns):\n",
      " #   Column          Dtype \n",
      "---  ------          ----- \n",
      " 0   tconst          object\n",
      " 1   titleType       object\n",
      " 2   primaryTitle    object\n",
      " 3   originalTitle   object\n",
      " 4   isAdult         object\n",
      " 5   startYear       object\n",
      " 6   endYear         object\n",
      " 7   runtimeMinutes  object\n",
      " 8   genres          object\n",
      "dtypes: object(9)\n",
      "memory usage: 188.6+ MB\n"
     ]
    }
   ],
   "source": [
    "basics_df = basics_df.dropna(subset='runtimeMinutes')\n",
    "basics_df.info()"
   ]
  },
  {
   "cell_type": "markdown",
   "id": "33330f3a",
   "metadata": {},
   "source": [
    "### Drop all rows without a genre listed"
   ]
  },
  {
   "cell_type": "code",
   "execution_count": 8,
   "id": "edfc03ee",
   "metadata": {},
   "outputs": [
    {
     "name": "stdout",
     "output_type": "stream",
     "text": [
      "<class 'pandas.core.frame.DataFrame'>\n",
      "Int64Index: 2404489 entries, 0 to 9221339\n",
      "Data columns (total 9 columns):\n",
      " #   Column          Dtype \n",
      "---  ------          ----- \n",
      " 0   tconst          object\n",
      " 1   titleType       object\n",
      " 2   primaryTitle    object\n",
      " 3   originalTitle   object\n",
      " 4   isAdult         object\n",
      " 5   startYear       object\n",
      " 6   endYear         object\n",
      " 7   runtimeMinutes  object\n",
      " 8   genres          object\n",
      "dtypes: object(9)\n",
      "memory usage: 183.4+ MB\n"
     ]
    }
   ],
   "source": [
    "basics_df = basics_df.dropna(subset='genres')\n",
    "basics_df.info()"
   ]
  },
  {
   "cell_type": "markdown",
   "id": "ab8f7227",
   "metadata": {},
   "source": [
    "### Keep only rows where it's listed in titleType as a \"movie\""
   ]
  },
  {
   "cell_type": "code",
   "execution_count": 9,
   "id": "d2391ad3",
   "metadata": {},
   "outputs": [
    {
     "name": "stdout",
     "output_type": "stream",
     "text": [
      "<class 'pandas.core.frame.DataFrame'>\n",
      "Int64Index: 367884 entries, 8 to 9221290\n",
      "Data columns (total 9 columns):\n",
      " #   Column          Non-Null Count   Dtype \n",
      "---  ------          --------------   ----- \n",
      " 0   tconst          367884 non-null  object\n",
      " 1   titleType       367884 non-null  object\n",
      " 2   primaryTitle    367884 non-null  object\n",
      " 3   originalTitle   367884 non-null  object\n",
      " 4   isAdult         367884 non-null  object\n",
      " 5   startYear       362023 non-null  object\n",
      " 6   endYear         0 non-null       object\n",
      " 7   runtimeMinutes  367884 non-null  object\n",
      " 8   genres          367884 non-null  object\n",
      "dtypes: object(9)\n",
      "memory usage: 28.1+ MB\n"
     ]
    }
   ],
   "source": [
    "basics_df = basics_df[basics_df['titleType']=='movie']\n",
    "basics_df.info()"
   ]
  },
  {
   "cell_type": "markdown",
   "id": "bbd07703",
   "metadata": {},
   "source": [
    "### Remove null values from startYear, convert to integer, and filter the dataframe for only moves 2000-2022"
   ]
  },
  {
   "cell_type": "code",
   "execution_count": 10,
   "id": "3345cde0",
   "metadata": {},
   "outputs": [
    {
     "name": "stdout",
     "output_type": "stream",
     "text": [
      "<class 'pandas.core.frame.DataFrame'>\n",
      "Int64Index: 362023 entries, 8 to 9221290\n",
      "Data columns (total 9 columns):\n",
      " #   Column          Non-Null Count   Dtype \n",
      "---  ------          --------------   ----- \n",
      " 0   tconst          362023 non-null  object\n",
      " 1   titleType       362023 non-null  object\n",
      " 2   primaryTitle    362023 non-null  object\n",
      " 3   originalTitle   362023 non-null  object\n",
      " 4   isAdult         362023 non-null  object\n",
      " 5   startYear       362023 non-null  object\n",
      " 6   endYear         0 non-null       object\n",
      " 7   runtimeMinutes  362023 non-null  object\n",
      " 8   genres          362023 non-null  object\n",
      "dtypes: object(9)\n",
      "memory usage: 27.6+ MB\n"
     ]
    }
   ],
   "source": [
    "basics_df = basics_df.dropna(subset='startYear')\n",
    "basics_df.info()"
   ]
  },
  {
   "cell_type": "code",
   "execution_count": 11,
   "id": "25c361ed",
   "metadata": {},
   "outputs": [
    {
     "name": "stdout",
     "output_type": "stream",
     "text": [
      "<class 'pandas.core.frame.DataFrame'>\n",
      "Int64Index: 362023 entries, 8 to 9221290\n",
      "Data columns (total 9 columns):\n",
      " #   Column          Non-Null Count   Dtype \n",
      "---  ------          --------------   ----- \n",
      " 0   tconst          362023 non-null  object\n",
      " 1   titleType       362023 non-null  object\n",
      " 2   primaryTitle    362023 non-null  object\n",
      " 3   originalTitle   362023 non-null  object\n",
      " 4   isAdult         362023 non-null  object\n",
      " 5   startYear       362023 non-null  int32 \n",
      " 6   endYear         0 non-null       object\n",
      " 7   runtimeMinutes  362023 non-null  object\n",
      " 8   genres          362023 non-null  object\n",
      "dtypes: int32(1), object(8)\n",
      "memory usage: 26.2+ MB\n"
     ]
    }
   ],
   "source": [
    "basics_df['startYear'] = basics_df['startYear'].astype(\"int\")\n",
    "basics_df.info()"
   ]
  },
  {
   "cell_type": "code",
   "execution_count": 12,
   "id": "27b2c9ac",
   "metadata": {},
   "outputs": [
    {
     "data": {
      "text/plain": [
       "2017    14208\n",
       "2018    14147\n",
       "2016    13830\n",
       "2019    13819\n",
       "2015    13330\n",
       "2014    12982\n",
       "2013    12278\n",
       "2021    11757\n",
       "2012    11542\n",
       "2020    11261\n",
       "2011    10687\n",
       "2010    10129\n",
       "2009     9277\n",
       "2022     8196\n",
       "2008     8075\n",
       "2007     6889\n",
       "2006     6435\n",
       "2005     5761\n",
       "2004     5135\n",
       "2003     4531\n",
       "2002     4087\n",
       "2001     3816\n",
       "2000     3595\n",
       "2023      348\n",
       "2024       31\n",
       "2025       10\n",
       "2026        2\n",
       "2027        1\n",
       "Name: startYear, dtype: int64"
      ]
     },
     "execution_count": 12,
     "metadata": {},
     "output_type": "execute_result"
    }
   ],
   "source": [
    "basics_df = basics_df[basics_df['startYear']>=2000]\n",
    "basics_df['startYear'].value_counts()"
   ]
  },
  {
   "cell_type": "code",
   "execution_count": 13,
   "id": "017c6ee4",
   "metadata": {},
   "outputs": [
    {
     "data": {
      "text/plain": [
       "2017    14208\n",
       "2018    14147\n",
       "2016    13830\n",
       "2019    13819\n",
       "2015    13330\n",
       "2014    12982\n",
       "2013    12278\n",
       "2021    11757\n",
       "2012    11542\n",
       "2020    11261\n",
       "2011    10687\n",
       "2010    10129\n",
       "2009     9277\n",
       "2022     8196\n",
       "2008     8075\n",
       "2007     6889\n",
       "2006     6435\n",
       "2005     5761\n",
       "2004     5135\n",
       "2003     4531\n",
       "2002     4087\n",
       "2001     3816\n",
       "2000     3595\n",
       "Name: startYear, dtype: int64"
      ]
     },
     "execution_count": 13,
     "metadata": {},
     "output_type": "execute_result"
    }
   ],
   "source": [
    "basics_df = basics_df[basics_df['startYear']<=2022]\n",
    "basics_df['startYear'].value_counts()"
   ]
  },
  {
   "cell_type": "markdown",
   "id": "5a9f23aa",
   "metadata": {},
   "source": [
    "### Eliminate all movies that include \"Documentary\" in the genre"
   ]
  },
  {
   "cell_type": "code",
   "execution_count": 14,
   "id": "138a8d05",
   "metadata": {},
   "outputs": [
    {
     "data": {
      "text/plain": [
       "Drama                        34850\n",
       "Comedy                       13119\n",
       "Comedy,Drama                  6276\n",
       "Horror                        5612\n",
       "Drama,Romance                 4179\n",
       "                             ...  \n",
       "Adventure,History,War            1\n",
       "Biography,Fantasy,History        1\n",
       "Adventure,Romance,Sport          1\n",
       "Action,Music,Sci-Fi              1\n",
       "Crime,Fantasy,Sci-Fi             1\n",
       "Name: genres, Length: 970, dtype: int64"
      ]
     },
     "execution_count": 14,
     "metadata": {},
     "output_type": "execute_result"
    }
   ],
   "source": [
    "is_documentary = basics_df['genres'].str.contains('documentary',case=False)\n",
    "basics_df = basics_df[~is_documentary]\n",
    "basics_df['genres'].value_counts()"
   ]
  },
  {
   "cell_type": "markdown",
   "id": "4a570302",
   "metadata": {},
   "source": [
    "### For our \"AKA\" dataframe, we need to remove any movies not from the U.S."
   ]
  },
  {
   "cell_type": "code",
   "execution_count": 19,
   "id": "4a55a554",
   "metadata": {},
   "outputs": [],
   "source": [
    "akas_df = akas_df[akas_df['region']==\"US\"]"
   ]
  },
  {
   "cell_type": "code",
   "execution_count": 20,
   "id": "468c1006",
   "metadata": {},
   "outputs": [
    {
     "data": {
      "text/plain": [
       "US    1348747\n",
       "Name: region, dtype: int64"
      ]
     },
     "execution_count": 20,
     "metadata": {},
     "output_type": "execute_result"
    }
   ],
   "source": [
    "akas_df['region'].value_counts()"
   ]
  },
  {
   "cell_type": "code",
   "execution_count": 23,
   "id": "c36a7eae",
   "metadata": {},
   "outputs": [
    {
     "name": "stdout",
     "output_type": "stream",
     "text": [
      "<class 'pandas.core.frame.DataFrame'>\n",
      "RangeIndex: 1260762 entries, 0 to 1260761\n",
      "Data columns (total 3 columns):\n",
      " #   Column         Non-Null Count    Dtype  \n",
      "---  ------         --------------    -----  \n",
      " 0   tconst         1260762 non-null  object \n",
      " 1   averageRating  1260762 non-null  float64\n",
      " 2   numVotes       1260762 non-null  int64  \n",
      "dtypes: float64(1), int64(1), object(1)\n",
      "memory usage: 28.9+ MB\n"
     ]
    }
   ],
   "source": [
    "ratings_df.info()"
   ]
  },
  {
   "cell_type": "markdown",
   "id": "33c15ccc",
   "metadata": {},
   "source": [
    "### Now we need to filter down our Basics and Ratings dataframe, to only those that match up with our AKA dataframe"
   ]
  },
  {
   "cell_type": "code",
   "execution_count": 24,
   "id": "5bafa8d6",
   "metadata": {},
   "outputs": [],
   "source": [
    "basics_keepers = basics_df['tconst'].isin(akas_df['titleId'])\n",
    "ratings_keepers = ratings_df['tconst'].isin(akas_df['titleId'])\n",
    "\n",
    "basics_df = basics_df[basics_keepers]\n",
    "ratings_df = ratings_df[ratings_keepers]"
   ]
  },
  {
   "cell_type": "markdown",
   "id": "9bcec87b",
   "metadata": {},
   "source": [
    "### Now let's reverse the same logic and trim down our AKA and Ratings dataframes to only those that are left in our original basic_df"
   ]
  },
  {
   "cell_type": "code",
   "execution_count": 29,
   "id": "b4567332",
   "metadata": {},
   "outputs": [],
   "source": [
    "aka_keepers = akas_df['titleId'].isin(basics_df['tconst'])\n",
    "ratings_keepers_2 = ratings_df['tconst'].isin(basics_df['tconst'])\n",
    "\n",
    "akas_df = akas_df[aka_keepers]\n",
    "ratings_df = ratings_df[ratings_keepers_2]"
   ]
  },
  {
   "cell_type": "code",
   "execution_count": 30,
   "id": "fe468e15",
   "metadata": {},
   "outputs": [
    {
     "name": "stdout",
     "output_type": "stream",
     "text": [
      "<class 'pandas.core.frame.DataFrame'>\n",
      "Int64Index: 82476 entries, 34792 to 9221105\n",
      "Data columns (total 9 columns):\n",
      " #   Column          Non-Null Count  Dtype \n",
      "---  ------          --------------  ----- \n",
      " 0   tconst          82476 non-null  object\n",
      " 1   titleType       82476 non-null  object\n",
      " 2   primaryTitle    82476 non-null  object\n",
      " 3   originalTitle   82476 non-null  object\n",
      " 4   isAdult         82476 non-null  object\n",
      " 5   startYear       82476 non-null  int32 \n",
      " 6   endYear         0 non-null      object\n",
      " 7   runtimeMinutes  82476 non-null  object\n",
      " 8   genres          82476 non-null  object\n",
      "dtypes: int32(1), object(8)\n",
      "memory usage: 6.0+ MB\n"
     ]
    }
   ],
   "source": [
    "basics_df.info()"
   ]
  },
  {
   "cell_type": "code",
   "execution_count": 31,
   "id": "a876d398",
   "metadata": {},
   "outputs": [
    {
     "name": "stdout",
     "output_type": "stream",
     "text": [
      "<class 'pandas.core.frame.DataFrame'>\n",
      "Int64Index: 91970 entries, 195439 to 33172476\n",
      "Data columns (total 8 columns):\n",
      " #   Column           Non-Null Count  Dtype \n",
      "---  ------           --------------  ----- \n",
      " 0   titleId          91970 non-null  object\n",
      " 1   ordering         91970 non-null  int64 \n",
      " 2   title            91970 non-null  object\n",
      " 3   region           91970 non-null  object\n",
      " 4   language         928 non-null    object\n",
      " 5   types            84894 non-null  object\n",
      " 6   attributes       4246 non-null   object\n",
      " 7   isOriginalTitle  91970 non-null  object\n",
      "dtypes: int64(1), object(7)\n",
      "memory usage: 6.3+ MB\n"
     ]
    }
   ],
   "source": [
    "akas_df.info()"
   ]
  },
  {
   "cell_type": "code",
   "execution_count": 32,
   "id": "b6ecf6fd",
   "metadata": {},
   "outputs": [
    {
     "name": "stdout",
     "output_type": "stream",
     "text": [
      "<class 'pandas.core.frame.DataFrame'>\n",
      "Int64Index: 67739 entries, 17876 to 1260740\n",
      "Data columns (total 3 columns):\n",
      " #   Column         Non-Null Count  Dtype  \n",
      "---  ------         --------------  -----  \n",
      " 0   tconst         67739 non-null  object \n",
      " 1   averageRating  67739 non-null  float64\n",
      " 2   numVotes       67739 non-null  int64  \n",
      "dtypes: float64(1), int64(1), object(1)\n",
      "memory usage: 2.1+ MB\n"
     ]
    }
   ],
   "source": [
    "ratings_df.info()"
   ]
  },
  {
   "cell_type": "markdown",
   "id": "8e7c10d2",
   "metadata": {},
   "source": [
    "### Now let's save each of our three dataframes to our repo"
   ]
  },
  {
   "cell_type": "code",
   "execution_count": 35,
   "id": "c26ed2b9",
   "metadata": {},
   "outputs": [],
   "source": [
    "basics_df.to_csv(\"Data/title_basics.csv.gz\",compression='gzip',index=False)\n",
    "akas_df.to_csv(\"Data/title_akas.csv.gz\",compression='gzip',index=False)\n",
    "ratings_df.to_csv(\"Data/title_ratings.csv.gz\",compression='gzip',index=False)"
   ]
  },
  {
   "cell_type": "markdown",
   "id": "2e83b23d",
   "metadata": {},
   "source": [
    "### Quick test to verify it worked"
   ]
  },
  {
   "cell_type": "code",
   "execution_count": 34,
   "id": "482f9847",
   "metadata": {},
   "outputs": [
    {
     "data": {
      "text/html": [
       "<div>\n",
       "<style scoped>\n",
       "    .dataframe tbody tr th:only-of-type {\n",
       "        vertical-align: middle;\n",
       "    }\n",
       "\n",
       "    .dataframe tbody tr th {\n",
       "        vertical-align: top;\n",
       "    }\n",
       "\n",
       "    .dataframe thead th {\n",
       "        text-align: right;\n",
       "    }\n",
       "</style>\n",
       "<table border=\"1\" class=\"dataframe\">\n",
       "  <thead>\n",
       "    <tr style=\"text-align: right;\">\n",
       "      <th></th>\n",
       "      <th>tconst</th>\n",
       "      <th>titleType</th>\n",
       "      <th>primaryTitle</th>\n",
       "      <th>originalTitle</th>\n",
       "      <th>isAdult</th>\n",
       "      <th>startYear</th>\n",
       "      <th>endYear</th>\n",
       "      <th>runtimeMinutes</th>\n",
       "      <th>genres</th>\n",
       "    </tr>\n",
       "  </thead>\n",
       "  <tbody>\n",
       "    <tr>\n",
       "      <th>0</th>\n",
       "      <td>tt0035423</td>\n",
       "      <td>movie</td>\n",
       "      <td>Kate &amp; Leopold</td>\n",
       "      <td>Kate &amp; Leopold</td>\n",
       "      <td>0</td>\n",
       "      <td>2001</td>\n",
       "      <td>NaN</td>\n",
       "      <td>118</td>\n",
       "      <td>Comedy,Fantasy,Romance</td>\n",
       "    </tr>\n",
       "    <tr>\n",
       "      <th>1</th>\n",
       "      <td>tt0062336</td>\n",
       "      <td>movie</td>\n",
       "      <td>The Tango of the Widower and Its Distorting Mi...</td>\n",
       "      <td>El Tango del Viudo y Su Espejo Deformante</td>\n",
       "      <td>0</td>\n",
       "      <td>2020</td>\n",
       "      <td>NaN</td>\n",
       "      <td>70</td>\n",
       "      <td>Drama</td>\n",
       "    </tr>\n",
       "    <tr>\n",
       "      <th>2</th>\n",
       "      <td>tt0069049</td>\n",
       "      <td>movie</td>\n",
       "      <td>The Other Side of the Wind</td>\n",
       "      <td>The Other Side of the Wind</td>\n",
       "      <td>0</td>\n",
       "      <td>2018</td>\n",
       "      <td>NaN</td>\n",
       "      <td>122</td>\n",
       "      <td>Drama</td>\n",
       "    </tr>\n",
       "    <tr>\n",
       "      <th>3</th>\n",
       "      <td>tt0088751</td>\n",
       "      <td>movie</td>\n",
       "      <td>The Naked Monster</td>\n",
       "      <td>The Naked Monster</td>\n",
       "      <td>0</td>\n",
       "      <td>2005</td>\n",
       "      <td>NaN</td>\n",
       "      <td>100</td>\n",
       "      <td>Comedy,Horror,Sci-Fi</td>\n",
       "    </tr>\n",
       "    <tr>\n",
       "      <th>4</th>\n",
       "      <td>tt0096056</td>\n",
       "      <td>movie</td>\n",
       "      <td>Crime and Punishment</td>\n",
       "      <td>Crime and Punishment</td>\n",
       "      <td>0</td>\n",
       "      <td>2002</td>\n",
       "      <td>NaN</td>\n",
       "      <td>126</td>\n",
       "      <td>Drama</td>\n",
       "    </tr>\n",
       "  </tbody>\n",
       "</table>\n",
       "</div>"
      ],
      "text/plain": [
       "      tconst titleType                                       primaryTitle  \\\n",
       "0  tt0035423     movie                                     Kate & Leopold   \n",
       "1  tt0062336     movie  The Tango of the Widower and Its Distorting Mi...   \n",
       "2  tt0069049     movie                         The Other Side of the Wind   \n",
       "3  tt0088751     movie                                  The Naked Monster   \n",
       "4  tt0096056     movie                               Crime and Punishment   \n",
       "\n",
       "                               originalTitle  isAdult  startYear  endYear  \\\n",
       "0                             Kate & Leopold        0       2001      NaN   \n",
       "1  El Tango del Viudo y Su Espejo Deformante        0       2020      NaN   \n",
       "2                 The Other Side of the Wind        0       2018      NaN   \n",
       "3                          The Naked Monster        0       2005      NaN   \n",
       "4                       Crime and Punishment        0       2002      NaN   \n",
       "\n",
       "   runtimeMinutes                  genres  \n",
       "0             118  Comedy,Fantasy,Romance  \n",
       "1              70                   Drama  \n",
       "2             122                   Drama  \n",
       "3             100    Comedy,Horror,Sci-Fi  \n",
       "4             126                   Drama  "
      ]
     },
     "execution_count": 34,
     "metadata": {},
     "output_type": "execute_result"
    }
   ],
   "source": [
    "basics_test = pd.read_csv('Data/title_basics.csv.gz', low_memory = False)\n",
    "basics_test.head()"
   ]
  },
  {
   "cell_type": "code",
   "execution_count": null,
   "id": "54375bf9",
   "metadata": {},
   "outputs": [],
   "source": []
  }
 ],
 "metadata": {
  "kernelspec": {
   "display_name": "Python (dojo-env)",
   "language": "python",
   "name": "dojo-env"
  },
  "language_info": {
   "codemirror_mode": {
    "name": "ipython",
    "version": 3
   },
   "file_extension": ".py",
   "mimetype": "text/x-python",
   "name": "python",
   "nbconvert_exporter": "python",
   "pygments_lexer": "ipython3",
   "version": "3.8.13"
  },
  "toc": {
   "base_numbering": 1,
   "nav_menu": {},
   "number_sections": true,
   "sideBar": true,
   "skip_h1_title": false,
   "title_cell": "Table of Contents",
   "title_sidebar": "Contents",
   "toc_cell": false,
   "toc_position": {},
   "toc_section_display": true,
   "toc_window_display": false
  }
 },
 "nbformat": 4,
 "nbformat_minor": 5
}
