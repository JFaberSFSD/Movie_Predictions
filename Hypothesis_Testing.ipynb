{
 "cells": [
  {
   "cell_type": "code",
   "execution_count": 1,
   "id": "d1c654c9",
   "metadata": {},
   "outputs": [],
   "source": [
    "import pandas as pd\n",
    "import numpy as np\n",
    "import scipy.stats as stats\n",
    "import matplotlib.pyplot as plt\n",
    "import seaborn as sns\n",
    "from statsmodels.stats.multicomp import pairwise_tukeyhsd"
   ]
  },
  {
   "cell_type": "code",
   "execution_count": 15,
   "id": "24ec1ff9",
   "metadata": {},
   "outputs": [
    {
     "data": {
      "text/html": [
       "<div>\n",
       "<style scoped>\n",
       "    .dataframe tbody tr th:only-of-type {\n",
       "        vertical-align: middle;\n",
       "    }\n",
       "\n",
       "    .dataframe tbody tr th {\n",
       "        vertical-align: top;\n",
       "    }\n",
       "\n",
       "    .dataframe thead th {\n",
       "        text-align: right;\n",
       "    }\n",
       "</style>\n",
       "<table border=\"1\" class=\"dataframe\">\n",
       "  <thead>\n",
       "    <tr style=\"text-align: right;\">\n",
       "      <th></th>\n",
       "      <th>imdb_id</th>\n",
       "      <th>adult</th>\n",
       "      <th>backdrop_path</th>\n",
       "      <th>belongs_to_collection</th>\n",
       "      <th>budget</th>\n",
       "      <th>genres</th>\n",
       "      <th>homepage</th>\n",
       "      <th>id</th>\n",
       "      <th>original_language</th>\n",
       "      <th>original_title</th>\n",
       "      <th>...</th>\n",
       "      <th>revenue</th>\n",
       "      <th>runtime</th>\n",
       "      <th>spoken_languages</th>\n",
       "      <th>status</th>\n",
       "      <th>tagline</th>\n",
       "      <th>title</th>\n",
       "      <th>video</th>\n",
       "      <th>vote_average</th>\n",
       "      <th>vote_count</th>\n",
       "      <th>certification</th>\n",
       "    </tr>\n",
       "  </thead>\n",
       "  <tbody>\n",
       "    <tr>\n",
       "      <th>0</th>\n",
       "      <td>0</td>\n",
       "      <td>NaN</td>\n",
       "      <td>NaN</td>\n",
       "      <td>NaN</td>\n",
       "      <td>NaN</td>\n",
       "      <td>NaN</td>\n",
       "      <td>NaN</td>\n",
       "      <td>NaN</td>\n",
       "      <td>NaN</td>\n",
       "      <td>NaN</td>\n",
       "      <td>...</td>\n",
       "      <td>NaN</td>\n",
       "      <td>NaN</td>\n",
       "      <td>NaN</td>\n",
       "      <td>NaN</td>\n",
       "      <td>NaN</td>\n",
       "      <td>NaN</td>\n",
       "      <td>NaN</td>\n",
       "      <td>NaN</td>\n",
       "      <td>NaN</td>\n",
       "      <td>NaN</td>\n",
       "    </tr>\n",
       "    <tr>\n",
       "      <th>1</th>\n",
       "      <td>tt0113026</td>\n",
       "      <td>0.0</td>\n",
       "      <td>/vMFs7nw6P0bIV1jDsQpxAieAVnH.jpg</td>\n",
       "      <td>NaN</td>\n",
       "      <td>10000000.0</td>\n",
       "      <td>[{'id': 35, 'name': 'Comedy'}, {'id': 10402, '...</td>\n",
       "      <td>NaN</td>\n",
       "      <td>62127.0</td>\n",
       "      <td>en</td>\n",
       "      <td>The Fantasticks</td>\n",
       "      <td>...</td>\n",
       "      <td>0.0</td>\n",
       "      <td>86.0</td>\n",
       "      <td>[{'english_name': 'English', 'iso_639_1': 'en'...</td>\n",
       "      <td>Released</td>\n",
       "      <td>Try to remember the first time magic happened</td>\n",
       "      <td>The Fantasticks</td>\n",
       "      <td>0.0</td>\n",
       "      <td>5.500</td>\n",
       "      <td>22.0</td>\n",
       "      <td>NaN</td>\n",
       "    </tr>\n",
       "    <tr>\n",
       "      <th>2</th>\n",
       "      <td>tt0113092</td>\n",
       "      <td>0.0</td>\n",
       "      <td>NaN</td>\n",
       "      <td>NaN</td>\n",
       "      <td>0.0</td>\n",
       "      <td>[{'id': 878, 'name': 'Science Fiction'}]</td>\n",
       "      <td>NaN</td>\n",
       "      <td>110977.0</td>\n",
       "      <td>en</td>\n",
       "      <td>For the Cause</td>\n",
       "      <td>...</td>\n",
       "      <td>0.0</td>\n",
       "      <td>100.0</td>\n",
       "      <td>[{'english_name': 'English', 'iso_639_1': 'en'...</td>\n",
       "      <td>Released</td>\n",
       "      <td>The ultimate showdown on a forbidden planet.</td>\n",
       "      <td>For the Cause</td>\n",
       "      <td>0.0</td>\n",
       "      <td>5.100</td>\n",
       "      <td>8.0</td>\n",
       "      <td>NaN</td>\n",
       "    </tr>\n",
       "    <tr>\n",
       "      <th>3</th>\n",
       "      <td>tt0116391</td>\n",
       "      <td>0.0</td>\n",
       "      <td>NaN</td>\n",
       "      <td>NaN</td>\n",
       "      <td>0.0</td>\n",
       "      <td>[{'id': 18, 'name': 'Drama'}, {'id': 28, 'name...</td>\n",
       "      <td>NaN</td>\n",
       "      <td>442869.0</td>\n",
       "      <td>hi</td>\n",
       "      <td>Gang</td>\n",
       "      <td>...</td>\n",
       "      <td>0.0</td>\n",
       "      <td>152.0</td>\n",
       "      <td>[{'english_name': 'Hindi', 'iso_639_1': 'hi', ...</td>\n",
       "      <td>Released</td>\n",
       "      <td>NaN</td>\n",
       "      <td>Gang</td>\n",
       "      <td>0.0</td>\n",
       "      <td>0.000</td>\n",
       "      <td>0.0</td>\n",
       "      <td>NaN</td>\n",
       "    </tr>\n",
       "    <tr>\n",
       "      <th>4</th>\n",
       "      <td>tt0118694</td>\n",
       "      <td>0.0</td>\n",
       "      <td>/n4GJFGzsc7NinI1VeGDXIcQjtU2.jpg</td>\n",
       "      <td>NaN</td>\n",
       "      <td>150000.0</td>\n",
       "      <td>[{'id': 18, 'name': 'Drama'}, {'id': 10749, 'n...</td>\n",
       "      <td>http://www.wkw-inthemoodforlove.com/</td>\n",
       "      <td>843.0</td>\n",
       "      <td>cn</td>\n",
       "      <td>花樣年華</td>\n",
       "      <td>...</td>\n",
       "      <td>12854953.0</td>\n",
       "      <td>99.0</td>\n",
       "      <td>[{'english_name': 'Cantonese', 'iso_639_1': 'c...</td>\n",
       "      <td>Released</td>\n",
       "      <td>Feel the heat, keep the feeling burning, let t...</td>\n",
       "      <td>In the Mood for Love</td>\n",
       "      <td>0.0</td>\n",
       "      <td>8.111</td>\n",
       "      <td>1979.0</td>\n",
       "      <td>PG</td>\n",
       "    </tr>\n",
       "    <tr>\n",
       "      <th>5</th>\n",
       "      <td>tt0118852</td>\n",
       "      <td>0.0</td>\n",
       "      <td>NaN</td>\n",
       "      <td>NaN</td>\n",
       "      <td>0.0</td>\n",
       "      <td>[{'id': 18, 'name': 'Drama'}]</td>\n",
       "      <td>NaN</td>\n",
       "      <td>49511.0</td>\n",
       "      <td>en</td>\n",
       "      <td>Chinese Coffee</td>\n",
       "      <td>...</td>\n",
       "      <td>0.0</td>\n",
       "      <td>99.0</td>\n",
       "      <td>[{'english_name': 'English', 'iso_639_1': 'en'...</td>\n",
       "      <td>Released</td>\n",
       "      <td>There's a fine line between friendship and bet...</td>\n",
       "      <td>Chinese Coffee</td>\n",
       "      <td>0.0</td>\n",
       "      <td>6.851</td>\n",
       "      <td>47.0</td>\n",
       "      <td>R</td>\n",
       "    </tr>\n",
       "    <tr>\n",
       "      <th>6</th>\n",
       "      <td>tt0119273</td>\n",
       "      <td>0.0</td>\n",
       "      <td>/f5C03doOWiauu37bToKXtpgP5bS.jpg</td>\n",
       "      <td>{'id': 141086, 'name': 'Heavy Metal Collection...</td>\n",
       "      <td>15000000.0</td>\n",
       "      <td>[{'id': 28, 'name': 'Action'}, {'id': 12, 'nam...</td>\n",
       "      <td>NaN</td>\n",
       "      <td>16225.0</td>\n",
       "      <td>en</td>\n",
       "      <td>Heavy Metal 2000</td>\n",
       "      <td>...</td>\n",
       "      <td>0.0</td>\n",
       "      <td>88.0</td>\n",
       "      <td>[{'english_name': 'English', 'iso_639_1': 'en'...</td>\n",
       "      <td>Released</td>\n",
       "      <td>not to survive the fight in the external world...</td>\n",
       "      <td>Heavy Metal 2000</td>\n",
       "      <td>0.0</td>\n",
       "      <td>6.111</td>\n",
       "      <td>158.0</td>\n",
       "      <td>R</td>\n",
       "    </tr>\n",
       "    <tr>\n",
       "      <th>7</th>\n",
       "      <td>tt0119495</td>\n",
       "      <td>0.0</td>\n",
       "      <td>NaN</td>\n",
       "      <td>NaN</td>\n",
       "      <td>0.0</td>\n",
       "      <td>[{'id': 35, 'name': 'Comedy'}, {'id': 10749, '...</td>\n",
       "      <td>NaN</td>\n",
       "      <td>51181.0</td>\n",
       "      <td>en</td>\n",
       "      <td>Love 101</td>\n",
       "      <td>...</td>\n",
       "      <td>0.0</td>\n",
       "      <td>86.0</td>\n",
       "      <td>[]</td>\n",
       "      <td>Released</td>\n",
       "      <td>NaN</td>\n",
       "      <td>Love 101</td>\n",
       "      <td>0.0</td>\n",
       "      <td>0.000</td>\n",
       "      <td>0.0</td>\n",
       "      <td>R</td>\n",
       "    </tr>\n",
       "    <tr>\n",
       "      <th>8</th>\n",
       "      <td>tt0119806</td>\n",
       "      <td>0.0</td>\n",
       "      <td>NaN</td>\n",
       "      <td>NaN</td>\n",
       "      <td>0.0</td>\n",
       "      <td>[{'id': 35, 'name': 'Comedy'}, {'id': 10749, '...</td>\n",
       "      <td>NaN</td>\n",
       "      <td>85920.0</td>\n",
       "      <td>en</td>\n",
       "      <td>Nothing Sacred</td>\n",
       "      <td>...</td>\n",
       "      <td>0.0</td>\n",
       "      <td>98.0</td>\n",
       "      <td>[]</td>\n",
       "      <td>Released</td>\n",
       "      <td>NaN</td>\n",
       "      <td>Nothing Sacred</td>\n",
       "      <td>0.0</td>\n",
       "      <td>0.000</td>\n",
       "      <td>0.0</td>\n",
       "      <td>NaN</td>\n",
       "    </tr>\n",
       "    <tr>\n",
       "      <th>9</th>\n",
       "      <td>tt0120202</td>\n",
       "      <td>0.0</td>\n",
       "      <td>/tuerGhZ1lA8wpBjUCEUpeTWDT5B.jpg</td>\n",
       "      <td>NaN</td>\n",
       "      <td>0.0</td>\n",
       "      <td>[{'id': 35, 'name': 'Comedy'}, {'id': 18, 'nam...</td>\n",
       "      <td>http://www.newline.com/properties/stateandmain...</td>\n",
       "      <td>21991.0</td>\n",
       "      <td>en</td>\n",
       "      <td>State and Main</td>\n",
       "      <td>...</td>\n",
       "      <td>0.0</td>\n",
       "      <td>102.0</td>\n",
       "      <td>[{'english_name': 'Italian', 'iso_639_1': 'it'...</td>\n",
       "      <td>Released</td>\n",
       "      <td>Big movie. Small town. Huge trouble.</td>\n",
       "      <td>State and Main</td>\n",
       "      <td>0.0</td>\n",
       "      <td>6.424</td>\n",
       "      <td>164.0</td>\n",
       "      <td>NaN</td>\n",
       "    </tr>\n",
       "    <tr>\n",
       "      <th>10</th>\n",
       "      <td>tt0120263</td>\n",
       "      <td>0.0</td>\n",
       "      <td>/ynXVuylP8upazjz8lrqb1PEMkdR.jpg</td>\n",
       "      <td>NaN</td>\n",
       "      <td>0.0</td>\n",
       "      <td>[{'id': 18, 'name': 'Drama'}, {'id': 35, 'name...</td>\n",
       "      <td>NaN</td>\n",
       "      <td>34070.0</td>\n",
       "      <td>sv</td>\n",
       "      <td>Sånger från andra våningen</td>\n",
       "      <td>...</td>\n",
       "      <td>80334.0</td>\n",
       "      <td>98.0</td>\n",
       "      <td>[{'english_name': 'Russian', 'iso_639_1': 'ru'...</td>\n",
       "      <td>Released</td>\n",
       "      <td>NaN</td>\n",
       "      <td>Songs from the Second Floor</td>\n",
       "      <td>0.0</td>\n",
       "      <td>7.249</td>\n",
       "      <td>217.0</td>\n",
       "      <td>NaN</td>\n",
       "    </tr>\n",
       "    <tr>\n",
       "      <th>11</th>\n",
       "      <td>tt0120467</td>\n",
       "      <td>0.0</td>\n",
       "      <td>/knok3mNReKqPTplnnqz7E4dd7mD.jpg</td>\n",
       "      <td>NaN</td>\n",
       "      <td>120000.0</td>\n",
       "      <td>[{'id': 18, 'name': 'Drama'}, {'id': 27, 'name...</td>\n",
       "      <td>NaN</td>\n",
       "      <td>19085.0</td>\n",
       "      <td>en</td>\n",
       "      <td>Vulgar</td>\n",
       "      <td>...</td>\n",
       "      <td>14904.0</td>\n",
       "      <td>87.0</td>\n",
       "      <td>[{'english_name': 'English', 'iso_639_1': 'en'...</td>\n",
       "      <td>Released</td>\n",
       "      <td>Everyone loves a clown... some more than others.</td>\n",
       "      <td>Vulgar</td>\n",
       "      <td>0.0</td>\n",
       "      <td>5.400</td>\n",
       "      <td>42.0</td>\n",
       "      <td>R</td>\n",
       "    </tr>\n",
       "    <tr>\n",
       "      <th>12</th>\n",
       "      <td>tt0120626</td>\n",
       "      <td>0.0</td>\n",
       "      <td>/6xz9H7IMK3W21SNwAVmE9oW6YjX.jpg</td>\n",
       "      <td>NaN</td>\n",
       "      <td>6105121.0</td>\n",
       "      <td>[{'id': 18, 'name': 'Drama'}, {'id': 36, 'name...</td>\n",
       "      <td>NaN</td>\n",
       "      <td>54380.0</td>\n",
       "      <td>pt</td>\n",
       "      <td>Capitães de Abril</td>\n",
       "      <td>...</td>\n",
       "      <td>0.0</td>\n",
       "      <td>123.0</td>\n",
       "      <td>[{'english_name': 'Portuguese', 'iso_639_1': '...</td>\n",
       "      <td>Released</td>\n",
       "      <td>NaN</td>\n",
       "      <td>Captains of April</td>\n",
       "      <td>0.0</td>\n",
       "      <td>6.400</td>\n",
       "      <td>47.0</td>\n",
       "      <td>NaN</td>\n",
       "    </tr>\n",
       "    <tr>\n",
       "      <th>13</th>\n",
       "      <td>tt0120630</td>\n",
       "      <td>0.0</td>\n",
       "      <td>/sPAwM8WxMdXNlqeP4F9DMe9LYoY.jpg</td>\n",
       "      <td>{'id': 718551, 'name': 'Chicken Run Collection...</td>\n",
       "      <td>45000000.0</td>\n",
       "      <td>[{'id': 16, 'name': 'Animation'}, {'id': 35, '...</td>\n",
       "      <td>NaN</td>\n",
       "      <td>7443.0</td>\n",
       "      <td>en</td>\n",
       "      <td>Chicken Run</td>\n",
       "      <td>...</td>\n",
       "      <td>224834564.0</td>\n",
       "      <td>84.0</td>\n",
       "      <td>[{'english_name': 'English', 'iso_639_1': 'en'...</td>\n",
       "      <td>Released</td>\n",
       "      <td>This ain't no chick flick. It's poultry in mot...</td>\n",
       "      <td>Chicken Run</td>\n",
       "      <td>0.0</td>\n",
       "      <td>6.727</td>\n",
       "      <td>4121.0</td>\n",
       "      <td>G</td>\n",
       "    </tr>\n",
       "    <tr>\n",
       "      <th>14</th>\n",
       "      <td>tt0120698</td>\n",
       "      <td>0.0</td>\n",
       "      <td>NaN</td>\n",
       "      <td>NaN</td>\n",
       "      <td>0.0</td>\n",
       "      <td>[{'id': 18, 'name': 'Drama'}, {'id': 53, 'name...</td>\n",
       "      <td>NaN</td>\n",
       "      <td>272452.0</td>\n",
       "      <td>en</td>\n",
       "      <td>The Highwayman</td>\n",
       "      <td>...</td>\n",
       "      <td>0.0</td>\n",
       "      <td>94.0</td>\n",
       "      <td>[{'english_name': 'English', 'iso_639_1': 'en'...</td>\n",
       "      <td>Released</td>\n",
       "      <td>NaN</td>\n",
       "      <td>The Highwayman</td>\n",
       "      <td>0.0</td>\n",
       "      <td>6.000</td>\n",
       "      <td>1.0</td>\n",
       "      <td>NaN</td>\n",
       "    </tr>\n",
       "    <tr>\n",
       "      <th>15</th>\n",
       "      <td>tt0120733</td>\n",
       "      <td>0.0</td>\n",
       "      <td>NaN</td>\n",
       "      <td>NaN</td>\n",
       "      <td>0.0</td>\n",
       "      <td>[{'id': 16, 'name': 'Animation'}, {'id': 10751...</td>\n",
       "      <td>NaN</td>\n",
       "      <td>146499.0</td>\n",
       "      <td>en</td>\n",
       "      <td>Lion of Oz</td>\n",
       "      <td>...</td>\n",
       "      <td>0.0</td>\n",
       "      <td>74.0</td>\n",
       "      <td>[{'english_name': 'English', 'iso_639_1': 'en'...</td>\n",
       "      <td>Released</td>\n",
       "      <td>A circus lion finds himself in a magical land ...</td>\n",
       "      <td>Lion of Oz</td>\n",
       "      <td>0.0</td>\n",
       "      <td>5.000</td>\n",
       "      <td>8.0</td>\n",
       "      <td>NR</td>\n",
       "    </tr>\n",
       "    <tr>\n",
       "      <th>16</th>\n",
       "      <td>tt0120753</td>\n",
       "      <td>0.0</td>\n",
       "      <td>NaN</td>\n",
       "      <td>NaN</td>\n",
       "      <td>8000000.0</td>\n",
       "      <td>[{'id': 18, 'name': 'Drama'}, {'id': 53, 'name...</td>\n",
       "      <td>NaN</td>\n",
       "      <td>318.0</td>\n",
       "      <td>en</td>\n",
       "      <td>The Million Dollar Hotel</td>\n",
       "      <td>...</td>\n",
       "      <td>105983.0</td>\n",
       "      <td>122.0</td>\n",
       "      <td>[{'english_name': 'English', 'iso_639_1': 'en'...</td>\n",
       "      <td>Released</td>\n",
       "      <td>Everyone has something to hide.</td>\n",
       "      <td>The Million Dollar Hotel</td>\n",
       "      <td>0.0</td>\n",
       "      <td>5.915</td>\n",
       "      <td>254.0</td>\n",
       "      <td>R</td>\n",
       "    </tr>\n",
       "    <tr>\n",
       "      <th>17</th>\n",
       "      <td>tt0120755</td>\n",
       "      <td>0.0</td>\n",
       "      <td>/24DZfupDlhXeTchmcOkoGRhP5Vg.jpg</td>\n",
       "      <td>{'id': 87359, 'name': 'Mission: Impossible Col...</td>\n",
       "      <td>125000000.0</td>\n",
       "      <td>[{'id': 12, 'name': 'Adventure'}, {'id': 28, '...</td>\n",
       "      <td>NaN</td>\n",
       "      <td>955.0</td>\n",
       "      <td>en</td>\n",
       "      <td>Mission: Impossible II</td>\n",
       "      <td>...</td>\n",
       "      <td>546388105.0</td>\n",
       "      <td>123.0</td>\n",
       "      <td>[{'english_name': 'English', 'iso_639_1': 'en'...</td>\n",
       "      <td>Released</td>\n",
       "      <td>Expect the impossible again.</td>\n",
       "      <td>Mission: Impossible II</td>\n",
       "      <td>0.0</td>\n",
       "      <td>6.107</td>\n",
       "      <td>5472.0</td>\n",
       "      <td>PG-13</td>\n",
       "    </tr>\n",
       "    <tr>\n",
       "      <th>18</th>\n",
       "      <td>tt0120903</td>\n",
       "      <td>0.0</td>\n",
       "      <td>/lAFUFuxy74r4dUw2pmxTtzkfSDE.jpg</td>\n",
       "      <td>{'id': 748, 'name': 'X-Men Collection', 'poste...</td>\n",
       "      <td>75000000.0</td>\n",
       "      <td>[{'id': 12, 'name': 'Adventure'}, {'id': 28, '...</td>\n",
       "      <td>https://www.20thcenturystudios.com/movies/x-men</td>\n",
       "      <td>36657.0</td>\n",
       "      <td>en</td>\n",
       "      <td>X-Men</td>\n",
       "      <td>...</td>\n",
       "      <td>296339527.0</td>\n",
       "      <td>104.0</td>\n",
       "      <td>[{'english_name': 'English', 'iso_639_1': 'en'...</td>\n",
       "      <td>Released</td>\n",
       "      <td>Trust a few. Fear the rest.</td>\n",
       "      <td>X-Men</td>\n",
       "      <td>0.0</td>\n",
       "      <td>6.985</td>\n",
       "      <td>9827.0</td>\n",
       "      <td>PG-13</td>\n",
       "    </tr>\n",
       "    <tr>\n",
       "      <th>19</th>\n",
       "      <td>tt0120913</td>\n",
       "      <td>0.0</td>\n",
       "      <td>/pniACHS8KDVCldB3BlwL78RIZ7V.jpg</td>\n",
       "      <td>NaN</td>\n",
       "      <td>75000000.0</td>\n",
       "      <td>[{'id': 16, 'name': 'Animation'}, {'id': 28, '...</td>\n",
       "      <td>NaN</td>\n",
       "      <td>7450.0</td>\n",
       "      <td>en</td>\n",
       "      <td>Titan A.E.</td>\n",
       "      <td>...</td>\n",
       "      <td>36754634.0</td>\n",
       "      <td>94.0</td>\n",
       "      <td>[{'english_name': 'English', 'iso_639_1': 'en'...</td>\n",
       "      <td>Released</td>\n",
       "      <td>When Earth Ends, The Adventure Begins.</td>\n",
       "      <td>Titan A.E.</td>\n",
       "      <td>0.0</td>\n",
       "      <td>6.601</td>\n",
       "      <td>885.0</td>\n",
       "      <td>PG</td>\n",
       "    </tr>\n",
       "    <tr>\n",
       "      <th>20</th>\n",
       "      <td>tt0120917</td>\n",
       "      <td>0.0</td>\n",
       "      <td>/mZj8EUr6F1x2PWZjKPxaeYd5WRw.jpg</td>\n",
       "      <td>{'id': 178117, 'name': \"The Emperor's New Groo...</td>\n",
       "      <td>100000000.0</td>\n",
       "      <td>[{'id': 12, 'name': 'Adventure'}, {'id': 16, '...</td>\n",
       "      <td>NaN</td>\n",
       "      <td>11688.0</td>\n",
       "      <td>en</td>\n",
       "      <td>The Emperor's New Groove</td>\n",
       "      <td>...</td>\n",
       "      <td>169327687.0</td>\n",
       "      <td>78.0</td>\n",
       "      <td>[{'english_name': 'English', 'iso_639_1': 'en'...</td>\n",
       "      <td>Released</td>\n",
       "      <td>It's all about... ME!</td>\n",
       "      <td>The Emperor's New Groove</td>\n",
       "      <td>0.0</td>\n",
       "      <td>7.500</td>\n",
       "      <td>5618.0</td>\n",
       "      <td>G</td>\n",
       "    </tr>\n",
       "    <tr>\n",
       "      <th>21</th>\n",
       "      <td>tt0122161</td>\n",
       "      <td>0.0</td>\n",
       "      <td>/tqEAmypPALBhmwdp9Bo0EcDgKym.jpg</td>\n",
       "      <td>NaN</td>\n",
       "      <td>0.0</td>\n",
       "      <td>[{'id': 53, 'name': 'Thriller'}, {'id': 18, 'n...</td>\n",
       "      <td>NaN</td>\n",
       "      <td>209084.0</td>\n",
       "      <td>en</td>\n",
       "      <td>Lured Innocence</td>\n",
       "      <td>...</td>\n",
       "      <td>0.0</td>\n",
       "      <td>97.0</td>\n",
       "      <td>[{'english_name': 'English', 'iso_639_1': 'en'...</td>\n",
       "      <td>Released</td>\n",
       "      <td>Deceptive passion... Malicious seduction.</td>\n",
       "      <td>Lured Innocence</td>\n",
       "      <td>0.0</td>\n",
       "      <td>5.000</td>\n",
       "      <td>6.0</td>\n",
       "      <td>R</td>\n",
       "    </tr>\n",
       "    <tr>\n",
       "      <th>22</th>\n",
       "      <td>tt0122459</td>\n",
       "      <td>0.0</td>\n",
       "      <td>/oNOJoW2XoH3shkQxHtOyacJRBCQ.jpg</td>\n",
       "      <td>NaN</td>\n",
       "      <td>24000000.0</td>\n",
       "      <td>[{'id': 10749, 'name': 'Romance'}, {'id': 35, ...</td>\n",
       "      <td>NaN</td>\n",
       "      <td>2621.0</td>\n",
       "      <td>en</td>\n",
       "      <td>Return to Me</td>\n",
       "      <td>...</td>\n",
       "      <td>36609995.0</td>\n",
       "      <td>115.0</td>\n",
       "      <td>[{'english_name': 'English', 'iso_639_1': 'en'...</td>\n",
       "      <td>Released</td>\n",
       "      <td>A comedy straight from the heart</td>\n",
       "      <td>Return to Me</td>\n",
       "      <td>0.0</td>\n",
       "      <td>6.693</td>\n",
       "      <td>331.0</td>\n",
       "      <td>PG</td>\n",
       "    </tr>\n",
       "    <tr>\n",
       "      <th>23</th>\n",
       "      <td>tt0123003</td>\n",
       "      <td>0.0</td>\n",
       "      <td>/2vJe8fmPu5rxlH9lJlcHrj7bs2u.jpg</td>\n",
       "      <td>NaN</td>\n",
       "      <td>10000000.0</td>\n",
       "      <td>[{'id': 35, 'name': 'Comedy'}, {'id': 18, 'nam...</td>\n",
       "      <td>NaN</td>\n",
       "      <td>95136.0</td>\n",
       "      <td>en</td>\n",
       "      <td>Bruno</td>\n",
       "      <td>...</td>\n",
       "      <td>0.0</td>\n",
       "      <td>108.0</td>\n",
       "      <td>[{'english_name': 'English', 'iso_639_1': 'en'...</td>\n",
       "      <td>Released</td>\n",
       "      <td>The comedy that is long on originality and sho...</td>\n",
       "      <td>Bruno</td>\n",
       "      <td>0.0</td>\n",
       "      <td>6.800</td>\n",
       "      <td>24.0</td>\n",
       "      <td>NaN</td>\n",
       "    </tr>\n",
       "    <tr>\n",
       "      <th>24</th>\n",
       "      <td>tt0123055</td>\n",
       "      <td>0.0</td>\n",
       "      <td>NaN</td>\n",
       "      <td>NaN</td>\n",
       "      <td>0.0</td>\n",
       "      <td>[{'id': 35, 'name': 'Comedy'}, {'id': 10751, '...</td>\n",
       "      <td>NaN</td>\n",
       "      <td>248740.0</td>\n",
       "      <td>en</td>\n",
       "      <td>The Elf Who Didn't Believe</td>\n",
       "      <td>...</td>\n",
       "      <td>0.0</td>\n",
       "      <td>90.0</td>\n",
       "      <td>[{'english_name': 'English', 'iso_639_1': 'en'...</td>\n",
       "      <td>Released</td>\n",
       "      <td>NaN</td>\n",
       "      <td>The Elf Who Didn't Believe</td>\n",
       "      <td>0.0</td>\n",
       "      <td>4.000</td>\n",
       "      <td>1.0</td>\n",
       "      <td>G</td>\n",
       "    </tr>\n",
       "  </tbody>\n",
       "</table>\n",
       "<p>25 rows × 26 columns</p>\n",
       "</div>"
      ],
      "text/plain": [
       "      imdb_id  adult                     backdrop_path  \\\n",
       "0           0    NaN                               NaN   \n",
       "1   tt0113026    0.0  /vMFs7nw6P0bIV1jDsQpxAieAVnH.jpg   \n",
       "2   tt0113092    0.0                               NaN   \n",
       "3   tt0116391    0.0                               NaN   \n",
       "4   tt0118694    0.0  /n4GJFGzsc7NinI1VeGDXIcQjtU2.jpg   \n",
       "5   tt0118852    0.0                               NaN   \n",
       "6   tt0119273    0.0  /f5C03doOWiauu37bToKXtpgP5bS.jpg   \n",
       "7   tt0119495    0.0                               NaN   \n",
       "8   tt0119806    0.0                               NaN   \n",
       "9   tt0120202    0.0  /tuerGhZ1lA8wpBjUCEUpeTWDT5B.jpg   \n",
       "10  tt0120263    0.0  /ynXVuylP8upazjz8lrqb1PEMkdR.jpg   \n",
       "11  tt0120467    0.0  /knok3mNReKqPTplnnqz7E4dd7mD.jpg   \n",
       "12  tt0120626    0.0  /6xz9H7IMK3W21SNwAVmE9oW6YjX.jpg   \n",
       "13  tt0120630    0.0  /sPAwM8WxMdXNlqeP4F9DMe9LYoY.jpg   \n",
       "14  tt0120698    0.0                               NaN   \n",
       "15  tt0120733    0.0                               NaN   \n",
       "16  tt0120753    0.0                               NaN   \n",
       "17  tt0120755    0.0  /24DZfupDlhXeTchmcOkoGRhP5Vg.jpg   \n",
       "18  tt0120903    0.0  /lAFUFuxy74r4dUw2pmxTtzkfSDE.jpg   \n",
       "19  tt0120913    0.0  /pniACHS8KDVCldB3BlwL78RIZ7V.jpg   \n",
       "20  tt0120917    0.0  /mZj8EUr6F1x2PWZjKPxaeYd5WRw.jpg   \n",
       "21  tt0122161    0.0  /tqEAmypPALBhmwdp9Bo0EcDgKym.jpg   \n",
       "22  tt0122459    0.0  /oNOJoW2XoH3shkQxHtOyacJRBCQ.jpg   \n",
       "23  tt0123003    0.0  /2vJe8fmPu5rxlH9lJlcHrj7bs2u.jpg   \n",
       "24  tt0123055    0.0                               NaN   \n",
       "\n",
       "                                belongs_to_collection       budget  \\\n",
       "0                                                 NaN          NaN   \n",
       "1                                                 NaN   10000000.0   \n",
       "2                                                 NaN          0.0   \n",
       "3                                                 NaN          0.0   \n",
       "4                                                 NaN     150000.0   \n",
       "5                                                 NaN          0.0   \n",
       "6   {'id': 141086, 'name': 'Heavy Metal Collection...   15000000.0   \n",
       "7                                                 NaN          0.0   \n",
       "8                                                 NaN          0.0   \n",
       "9                                                 NaN          0.0   \n",
       "10                                                NaN          0.0   \n",
       "11                                                NaN     120000.0   \n",
       "12                                                NaN    6105121.0   \n",
       "13  {'id': 718551, 'name': 'Chicken Run Collection...   45000000.0   \n",
       "14                                                NaN          0.0   \n",
       "15                                                NaN          0.0   \n",
       "16                                                NaN    8000000.0   \n",
       "17  {'id': 87359, 'name': 'Mission: Impossible Col...  125000000.0   \n",
       "18  {'id': 748, 'name': 'X-Men Collection', 'poste...   75000000.0   \n",
       "19                                                NaN   75000000.0   \n",
       "20  {'id': 178117, 'name': \"The Emperor's New Groo...  100000000.0   \n",
       "21                                                NaN          0.0   \n",
       "22                                                NaN   24000000.0   \n",
       "23                                                NaN   10000000.0   \n",
       "24                                                NaN          0.0   \n",
       "\n",
       "                                               genres  \\\n",
       "0                                                 NaN   \n",
       "1   [{'id': 35, 'name': 'Comedy'}, {'id': 10402, '...   \n",
       "2            [{'id': 878, 'name': 'Science Fiction'}]   \n",
       "3   [{'id': 18, 'name': 'Drama'}, {'id': 28, 'name...   \n",
       "4   [{'id': 18, 'name': 'Drama'}, {'id': 10749, 'n...   \n",
       "5                       [{'id': 18, 'name': 'Drama'}]   \n",
       "6   [{'id': 28, 'name': 'Action'}, {'id': 12, 'nam...   \n",
       "7   [{'id': 35, 'name': 'Comedy'}, {'id': 10749, '...   \n",
       "8   [{'id': 35, 'name': 'Comedy'}, {'id': 10749, '...   \n",
       "9   [{'id': 35, 'name': 'Comedy'}, {'id': 18, 'nam...   \n",
       "10  [{'id': 18, 'name': 'Drama'}, {'id': 35, 'name...   \n",
       "11  [{'id': 18, 'name': 'Drama'}, {'id': 27, 'name...   \n",
       "12  [{'id': 18, 'name': 'Drama'}, {'id': 36, 'name...   \n",
       "13  [{'id': 16, 'name': 'Animation'}, {'id': 35, '...   \n",
       "14  [{'id': 18, 'name': 'Drama'}, {'id': 53, 'name...   \n",
       "15  [{'id': 16, 'name': 'Animation'}, {'id': 10751...   \n",
       "16  [{'id': 18, 'name': 'Drama'}, {'id': 53, 'name...   \n",
       "17  [{'id': 12, 'name': 'Adventure'}, {'id': 28, '...   \n",
       "18  [{'id': 12, 'name': 'Adventure'}, {'id': 28, '...   \n",
       "19  [{'id': 16, 'name': 'Animation'}, {'id': 28, '...   \n",
       "20  [{'id': 12, 'name': 'Adventure'}, {'id': 16, '...   \n",
       "21  [{'id': 53, 'name': 'Thriller'}, {'id': 18, 'n...   \n",
       "22  [{'id': 10749, 'name': 'Romance'}, {'id': 35, ...   \n",
       "23  [{'id': 35, 'name': 'Comedy'}, {'id': 18, 'nam...   \n",
       "24  [{'id': 35, 'name': 'Comedy'}, {'id': 10751, '...   \n",
       "\n",
       "                                             homepage        id  \\\n",
       "0                                                 NaN       NaN   \n",
       "1                                                 NaN   62127.0   \n",
       "2                                                 NaN  110977.0   \n",
       "3                                                 NaN  442869.0   \n",
       "4                http://www.wkw-inthemoodforlove.com/     843.0   \n",
       "5                                                 NaN   49511.0   \n",
       "6                                                 NaN   16225.0   \n",
       "7                                                 NaN   51181.0   \n",
       "8                                                 NaN   85920.0   \n",
       "9   http://www.newline.com/properties/stateandmain...   21991.0   \n",
       "10                                                NaN   34070.0   \n",
       "11                                                NaN   19085.0   \n",
       "12                                                NaN   54380.0   \n",
       "13                                                NaN    7443.0   \n",
       "14                                                NaN  272452.0   \n",
       "15                                                NaN  146499.0   \n",
       "16                                                NaN     318.0   \n",
       "17                                                NaN     955.0   \n",
       "18    https://www.20thcenturystudios.com/movies/x-men   36657.0   \n",
       "19                                                NaN    7450.0   \n",
       "20                                                NaN   11688.0   \n",
       "21                                                NaN  209084.0   \n",
       "22                                                NaN    2621.0   \n",
       "23                                                NaN   95136.0   \n",
       "24                                                NaN  248740.0   \n",
       "\n",
       "   original_language              original_title  ...      revenue  runtime  \\\n",
       "0                NaN                         NaN  ...          NaN      NaN   \n",
       "1                 en             The Fantasticks  ...          0.0     86.0   \n",
       "2                 en               For the Cause  ...          0.0    100.0   \n",
       "3                 hi                        Gang  ...          0.0    152.0   \n",
       "4                 cn                        花樣年華  ...   12854953.0     99.0   \n",
       "5                 en              Chinese Coffee  ...          0.0     99.0   \n",
       "6                 en            Heavy Metal 2000  ...          0.0     88.0   \n",
       "7                 en                    Love 101  ...          0.0     86.0   \n",
       "8                 en              Nothing Sacred  ...          0.0     98.0   \n",
       "9                 en              State and Main  ...          0.0    102.0   \n",
       "10                sv  Sånger från andra våningen  ...      80334.0     98.0   \n",
       "11                en                      Vulgar  ...      14904.0     87.0   \n",
       "12                pt           Capitães de Abril  ...          0.0    123.0   \n",
       "13                en                 Chicken Run  ...  224834564.0     84.0   \n",
       "14                en              The Highwayman  ...          0.0     94.0   \n",
       "15                en                  Lion of Oz  ...          0.0     74.0   \n",
       "16                en    The Million Dollar Hotel  ...     105983.0    122.0   \n",
       "17                en      Mission: Impossible II  ...  546388105.0    123.0   \n",
       "18                en                       X-Men  ...  296339527.0    104.0   \n",
       "19                en                  Titan A.E.  ...   36754634.0     94.0   \n",
       "20                en    The Emperor's New Groove  ...  169327687.0     78.0   \n",
       "21                en             Lured Innocence  ...          0.0     97.0   \n",
       "22                en                Return to Me  ...   36609995.0    115.0   \n",
       "23                en                       Bruno  ...          0.0    108.0   \n",
       "24                en  The Elf Who Didn't Believe  ...          0.0     90.0   \n",
       "\n",
       "                                     spoken_languages    status  \\\n",
       "0                                                 NaN       NaN   \n",
       "1   [{'english_name': 'English', 'iso_639_1': 'en'...  Released   \n",
       "2   [{'english_name': 'English', 'iso_639_1': 'en'...  Released   \n",
       "3   [{'english_name': 'Hindi', 'iso_639_1': 'hi', ...  Released   \n",
       "4   [{'english_name': 'Cantonese', 'iso_639_1': 'c...  Released   \n",
       "5   [{'english_name': 'English', 'iso_639_1': 'en'...  Released   \n",
       "6   [{'english_name': 'English', 'iso_639_1': 'en'...  Released   \n",
       "7                                                  []  Released   \n",
       "8                                                  []  Released   \n",
       "9   [{'english_name': 'Italian', 'iso_639_1': 'it'...  Released   \n",
       "10  [{'english_name': 'Russian', 'iso_639_1': 'ru'...  Released   \n",
       "11  [{'english_name': 'English', 'iso_639_1': 'en'...  Released   \n",
       "12  [{'english_name': 'Portuguese', 'iso_639_1': '...  Released   \n",
       "13  [{'english_name': 'English', 'iso_639_1': 'en'...  Released   \n",
       "14  [{'english_name': 'English', 'iso_639_1': 'en'...  Released   \n",
       "15  [{'english_name': 'English', 'iso_639_1': 'en'...  Released   \n",
       "16  [{'english_name': 'English', 'iso_639_1': 'en'...  Released   \n",
       "17  [{'english_name': 'English', 'iso_639_1': 'en'...  Released   \n",
       "18  [{'english_name': 'English', 'iso_639_1': 'en'...  Released   \n",
       "19  [{'english_name': 'English', 'iso_639_1': 'en'...  Released   \n",
       "20  [{'english_name': 'English', 'iso_639_1': 'en'...  Released   \n",
       "21  [{'english_name': 'English', 'iso_639_1': 'en'...  Released   \n",
       "22  [{'english_name': 'English', 'iso_639_1': 'en'...  Released   \n",
       "23  [{'english_name': 'English', 'iso_639_1': 'en'...  Released   \n",
       "24  [{'english_name': 'English', 'iso_639_1': 'en'...  Released   \n",
       "\n",
       "                                              tagline  \\\n",
       "0                                                 NaN   \n",
       "1       Try to remember the first time magic happened   \n",
       "2        The ultimate showdown on a forbidden planet.   \n",
       "3                                                 NaN   \n",
       "4   Feel the heat, keep the feeling burning, let t...   \n",
       "5   There's a fine line between friendship and bet...   \n",
       "6   not to survive the fight in the external world...   \n",
       "7                                                 NaN   \n",
       "8                                                 NaN   \n",
       "9                Big movie. Small town. Huge trouble.   \n",
       "10                                                NaN   \n",
       "11   Everyone loves a clown... some more than others.   \n",
       "12                                                NaN   \n",
       "13  This ain't no chick flick. It's poultry in mot...   \n",
       "14                                                NaN   \n",
       "15  A circus lion finds himself in a magical land ...   \n",
       "16                    Everyone has something to hide.   \n",
       "17                       Expect the impossible again.   \n",
       "18                        Trust a few. Fear the rest.   \n",
       "19             When Earth Ends, The Adventure Begins.   \n",
       "20                              It's all about... ME!   \n",
       "21          Deceptive passion... Malicious seduction.   \n",
       "22                   A comedy straight from the heart   \n",
       "23  The comedy that is long on originality and sho...   \n",
       "24                                                NaN   \n",
       "\n",
       "                          title  video  vote_average vote_count certification  \n",
       "0                           NaN    NaN           NaN        NaN           NaN  \n",
       "1               The Fantasticks    0.0         5.500       22.0           NaN  \n",
       "2                 For the Cause    0.0         5.100        8.0           NaN  \n",
       "3                          Gang    0.0         0.000        0.0           NaN  \n",
       "4          In the Mood for Love    0.0         8.111     1979.0            PG  \n",
       "5                Chinese Coffee    0.0         6.851       47.0             R  \n",
       "6              Heavy Metal 2000    0.0         6.111      158.0             R  \n",
       "7                      Love 101    0.0         0.000        0.0             R  \n",
       "8                Nothing Sacred    0.0         0.000        0.0           NaN  \n",
       "9                State and Main    0.0         6.424      164.0           NaN  \n",
       "10  Songs from the Second Floor    0.0         7.249      217.0           NaN  \n",
       "11                       Vulgar    0.0         5.400       42.0             R  \n",
       "12            Captains of April    0.0         6.400       47.0           NaN  \n",
       "13                  Chicken Run    0.0         6.727     4121.0             G  \n",
       "14               The Highwayman    0.0         6.000        1.0           NaN  \n",
       "15                   Lion of Oz    0.0         5.000        8.0            NR  \n",
       "16     The Million Dollar Hotel    0.0         5.915      254.0             R  \n",
       "17       Mission: Impossible II    0.0         6.107     5472.0         PG-13  \n",
       "18                        X-Men    0.0         6.985     9827.0         PG-13  \n",
       "19                   Titan A.E.    0.0         6.601      885.0            PG  \n",
       "20     The Emperor's New Groove    0.0         7.500     5618.0             G  \n",
       "21              Lured Innocence    0.0         5.000        6.0             R  \n",
       "22                 Return to Me    0.0         6.693      331.0            PG  \n",
       "23                        Bruno    0.0         6.800       24.0           NaN  \n",
       "24   The Elf Who Didn't Believe    0.0         4.000        1.0             G  \n",
       "\n",
       "[25 rows x 26 columns]"
      ]
     },
     "execution_count": 15,
     "metadata": {},
     "output_type": "execute_result"
    }
   ],
   "source": [
    "df = pd.read_csv('Data/tmdb_results_combined.csv.gz')\n",
    "\n",
    "df.head(25)"
   ]
  },
  {
   "cell_type": "markdown",
   "id": "69741302",
   "metadata": {},
   "source": [
    "# Client question 1: does the MPAA rating of a movie (G/PG/PG-13/R) affect how much revenue the movie generates?"
   ]
  },
  {
   "cell_type": "markdown",
   "id": "70f70a97",
   "metadata": {},
   "source": [
    "## Null hypothesis: There is no statistical difference in revenue between the different rating categories\n",
    "\n",
    "## Alternate hypothesis: There is statistically significant differences in revenue between the different rating categories\n",
    "\n",
    "## Alpha for this test will be .05\n",
    "\n",
    "## Since we will be testing a single variable (revenue) across multiple groups (four to be exact) - we will use the ANOVA test"
   ]
  },
  {
   "cell_type": "code",
   "execution_count": 18,
   "id": "b09831b0",
   "metadata": {},
   "outputs": [
    {
     "data": {
      "image/png": "[encoded data removed]",
      "text/plain": [
       "<Figure size 640x480 with 1 Axes>"
      ]
     },
     "metadata": {},
     "output_type": "display_data"
    }
   ],
   "source": [
    "#First we need to create separate pandas series for revenues between the different ratings groups\n",
    "\n",
    "g_df = df.loc[df['certification']==\"G\"]\n",
    "g_revenues = g_df['revenue'].dropna()\n",
    "g_revenues = g_revenues.loc[g_revenues > 0]\n",
    "                            \n",
    "pg_df = df.loc[df['certification']==\"PG\"]\n",
    "pg_revenues = pg_df['revenue'].dropna()\n",
    "pg_revenues = pg_revenues.loc[pg_revenues > 0] \n",
    "\n",
    "pg13_df = df.loc[df['certification']==\"PG-13\"]\n",
    "pg13_revenues = pg13_df['revenue'].dropna()\n",
    "pg13_revenues = pg13_revenues.loc[pg13_revenues > 0]\n",
    "\n",
    "r_df = df.loc[df['certification']==\"R\"]\n",
    "r_revenues = r_df['revenue'].dropna()\n",
    "r_revenues = r_revenues.loc[r_revenues > 0]\n",
    "\n",
    "\n",
    "sns.histplot(data=g_revenues)\n",
    "sns.histplot(data=pg_revenues, color=\"red\")\n",
    "sns.histplot(data=pg13_revenues, color=\"yellow\")\n",
    "sns.histplot(data=r_revenues, color=\"green\")\n",
    "plt.show()"
   ]
  },
  {
   "cell_type": "markdown",
   "id": "0d03157b",
   "metadata": {},
   "source": [
    "## Before we can run our ANOVA, we need to verify a few things about our data\n",
    "\n",
    "## Verification 1 - No significant outliers"
   ]
  },
  {
   "cell_type": "code",
   "execution_count": 19,
   "id": "8f2a2103",
   "metadata": {},
   "outputs": [
    {
     "data": {
      "text/plain": [
       "4"
      ]
     },
     "execution_count": 19,
     "metadata": {},
     "output_type": "execute_result"
    }
   ],
   "source": [
    "#Check G movies for outliers using z_score\n",
    "\n",
    "g_zscores = stats.zscore(g_revenues)\n",
    "g_outliers = abs(g_zscores)>3\n",
    "np.sum(g_outliers)"
   ]
  },
  {
   "cell_type": "code",
   "execution_count": 20,
   "id": "7a621e03",
   "metadata": {},
   "outputs": [],
   "source": [
    "#we have four outliers for G movies, let's remove them\n",
    "\n",
    "g_revenues = g_revenues[(np.abs(stats.zscore(g_revenues))<3)]"
   ]
  },
  {
   "cell_type": "code",
   "execution_count": 21,
   "id": "6f5aeea4",
   "metadata": {},
   "outputs": [
    {
     "data": {
      "text/plain": [
       "21"
      ]
     },
     "execution_count": 21,
     "metadata": {},
     "output_type": "execute_result"
    }
   ],
   "source": [
    "#Check PG movies for outliers using z_score\n",
    "\n",
    "pg_zscores = stats.zscore(pg_revenues)\n",
    "pg_outliers = abs(pg_zscores)>3\n",
    "np.sum(pg_outliers)"
   ]
  },
  {
   "cell_type": "code",
   "execution_count": 22,
   "id": "27e3236f",
   "metadata": {},
   "outputs": [],
   "source": [
    "#Remove outliers from PG\n",
    "\n",
    "pg_revenues = pg_revenues[(np.abs(stats.zscore(pg_revenues))<3)]"
   ]
  },
  {
   "cell_type": "code",
   "execution_count": 23,
   "id": "afa350ff",
   "metadata": {},
   "outputs": [
    {
     "data": {
      "text/plain": [
       "42"
      ]
     },
     "execution_count": 23,
     "metadata": {},
     "output_type": "execute_result"
    }
   ],
   "source": [
    "#Check PG-13 movies for outliers using z_score\n",
    "\n",
    "pg13_zscores = stats.zscore(pg13_revenues)\n",
    "pg13_outliers = abs(pg13_zscores)>3\n",
    "np.sum(pg13_outliers)"
   ]
  },
  {
   "cell_type": "code",
   "execution_count": 24,
   "id": "e7ba499e",
   "metadata": {},
   "outputs": [],
   "source": [
    "#Remove outliers from PG-13\n",
    "\n",
    "pg13_revenues = pg13_revenues[(np.abs(stats.zscore(pg13_revenues))<3)]"
   ]
  },
  {
   "cell_type": "code",
   "execution_count": 25,
   "id": "45776cc8",
   "metadata": {},
   "outputs": [
    {
     "data": {
      "text/plain": [
       "53"
      ]
     },
     "execution_count": 25,
     "metadata": {},
     "output_type": "execute_result"
    }
   ],
   "source": [
    "#Check R movies for outliers using z_score\n",
    "\n",
    "r_zscores = stats.zscore(r_revenues)\n",
    "r_outliers = abs(r_zscores)>3\n",
    "np.sum(r_outliers)"
   ]
  },
  {
   "cell_type": "code",
   "execution_count": 26,
   "id": "98748f5d",
   "metadata": {},
   "outputs": [],
   "source": [
    "#Remove outliers from R\n",
    "\n",
    "r_revenues = r_revenues[(np.abs(stats.zscore(r_revenues))<3)]"
   ]
  },
  {
   "cell_type": "markdown",
   "id": "d26c65a6",
   "metadata": {},
   "source": [
    "## Verification 2 - Check for normality"
   ]
  },
  {
   "cell_type": "code",
   "execution_count": 27,
   "id": "92636f80",
   "metadata": {},
   "outputs": [
    {
     "data": {
      "text/plain": [
       "NormaltestResult(statistic=58.653585461260505, pvalue=1.83457615805827e-13)"
      ]
     },
     "execution_count": 27,
     "metadata": {},
     "output_type": "execute_result"
    }
   ],
   "source": [
    "#Check G for normality\n",
    "\n",
    "g_normality = stats.normaltest(g_revenues)\n",
    "g_normality"
   ]
  },
  {
   "cell_type": "code",
   "execution_count": 28,
   "id": "ea220e39",
   "metadata": {},
   "outputs": [
    {
     "data": {
      "text/plain": [
       "NormaltestResult(statistic=246.64908301481472, pvalue=2.759511066648394e-54)"
      ]
     },
     "execution_count": 28,
     "metadata": {},
     "output_type": "execute_result"
    }
   ],
   "source": [
    "#Check PG for normality\n",
    "\n",
    "pg_normality = stats.normaltest(pg_revenues)\n",
    "pg_normality"
   ]
  },
  {
   "cell_type": "code",
   "execution_count": 29,
   "id": "a2ede231",
   "metadata": {},
   "outputs": [
    {
     "data": {
      "text/plain": [
       "NormaltestResult(statistic=886.5491501930861, pvalue=3.078208744390665e-193)"
      ]
     },
     "execution_count": 29,
     "metadata": {},
     "output_type": "execute_result"
    }
   ],
   "source": [
    "#Check PG-13 for normality\n",
    "\n",
    "pg13_normality = stats.normaltest(pg13_revenues)\n",
    "pg13_normality"
   ]
  },
  {
   "cell_type": "code",
   "execution_count": 30,
   "id": "dd7cad2e",
   "metadata": {},
   "outputs": [
    {
     "data": {
      "text/plain": [
       "NormaltestResult(statistic=1120.0509631863304, pvalue=6.081680752806417e-244)"
      ]
     },
     "execution_count": 30,
     "metadata": {},
     "output_type": "execute_result"
    }
   ],
   "source": [
    "#Check R for normality\n",
    "\n",
    "r_normality = stats.normaltest(r_revenues)\n",
    "r_normality"
   ]
  },
  {
   "cell_type": "markdown",
   "id": "accdb5e7",
   "metadata": {},
   "source": [
    "### All of our groups had p-values well below .05, which means NONE are normally distributed. Our sample sizes for all groups are in the thousands though, so we can continue with our ANOVA"
   ]
  },
  {
   "cell_type": "markdown",
   "id": "25ad8d04",
   "metadata": {},
   "source": [
    "## Verification 3 - Check for equal variance"
   ]
  },
  {
   "cell_type": "code",
   "execution_count": 31,
   "id": "390357e2",
   "metadata": {},
   "outputs": [
    {
     "data": {
      "text/plain": [
       "LeveneResult(statistic=148.8826792795371, pvalue=2.799103074082618e-92)"
      ]
     },
     "execution_count": 31,
     "metadata": {},
     "output_type": "execute_result"
    }
   ],
   "source": [
    "variance_test = stats.levene(g_revenues, pg_revenues, pg13_revenues, r_revenues)\n",
    "variance_test"
   ]
  },
  {
   "cell_type": "markdown",
   "id": "16841d59",
   "metadata": {},
   "source": [
    "### With a p-value of under .05, we can conclude that our groups do NOT have equal variance. This won't stop us from conducting our test, but we will need to switch it up and run a Kruskal-Wallis function instead\n"
   ]
  },
  {
   "cell_type": "code",
   "execution_count": 32,
   "id": "38086002",
   "metadata": {},
   "outputs": [
    {
     "data": {
      "text/plain": [
       "KruskalResult(statistic=610.5151320323973, pvalue=5.294456880802159e-132)"
      ]
     },
     "execution_count": 32,
     "metadata": {},
     "output_type": "execute_result"
    }
   ],
   "source": [
    "#Let's run our final test!\n",
    "\n",
    "anova = stats.kruskal(g_revenues, pg_revenues, pg13_revenues, r_revenues)\n",
    "anova"
   ]
  },
  {
   "cell_type": "markdown",
   "id": "803fc110",
   "metadata": {},
   "source": [
    "## RESULTS: With a p-value of well under .05, we must reject our null hypothesis and will conclude that there IS a statistically significant difference between revenues of the different ratings"
   ]
  },
  {
   "cell_type": "code",
   "execution_count": 37,
   "id": "5474a0a6",
   "metadata": {},
   "outputs": [
    {
     "data": {
      "text/html": [
       "<div>\n",
       "<style scoped>\n",
       "    .dataframe tbody tr th:only-of-type {\n",
       "        vertical-align: middle;\n",
       "    }\n",
       "\n",
       "    .dataframe tbody tr th {\n",
       "        vertical-align: top;\n",
       "    }\n",
       "\n",
       "    .dataframe thead th {\n",
       "        text-align: right;\n",
       "    }\n",
       "</style>\n",
       "<table border=\"1\" class=\"dataframe\">\n",
       "  <thead>\n",
       "    <tr style=\"text-align: right;\">\n",
       "      <th></th>\n",
       "      <th>Average_Revenue</th>\n",
       "      <th>Rating</th>\n",
       "    </tr>\n",
       "  </thead>\n",
       "  <tbody>\n",
       "    <tr>\n",
       "      <th>0</th>\n",
       "      <td>9.527946e+07</td>\n",
       "      <td>G</td>\n",
       "    </tr>\n",
       "    <tr>\n",
       "      <th>1</th>\n",
       "      <td>1.222741e+08</td>\n",
       "      <td>PG</td>\n",
       "    </tr>\n",
       "    <tr>\n",
       "      <th>2</th>\n",
       "      <td>1.093631e+08</td>\n",
       "      <td>PG-13</td>\n",
       "    </tr>\n",
       "    <tr>\n",
       "      <th>3</th>\n",
       "      <td>3.266834e+07</td>\n",
       "      <td>R</td>\n",
       "    </tr>\n",
       "  </tbody>\n",
       "</table>\n",
       "</div>"
      ],
      "text/plain": [
       "   Average_Revenue Rating\n",
       "0     9.527946e+07      G\n",
       "1     1.222741e+08     PG\n",
       "2     1.093631e+08  PG-13\n",
       "3     3.266834e+07      R"
      ]
     },
     "execution_count": 37,
     "metadata": {},
     "output_type": "execute_result"
    }
   ],
   "source": [
    "#Let's make a quick visual to show our results\n",
    "g_mean = g_revenues.mean()\n",
    "pg_mean = pg_revenues.mean()\n",
    "pg13_mean = pg13_revenues.mean()\n",
    "r_mean = r_revenues.mean()\n",
    "\n",
    "\n",
    "bar_df = pd.DataFrame([[g_mean,'G'],[pg_mean,'PG'],[pg13_mean,'PG-13'],[r_mean,'R']], columns=['Average_Revenue','Rating'])\n",
    "bar_df"
   ]
  },
  {
   "cell_type": "code",
   "execution_count": 47,
   "id": "8da13e45",
   "metadata": {},
   "outputs": [
    {
     "name": "stderr",
     "output_type": "stream",
     "text": [
      "C:\\Users\\jfabe\\AppData\\Local\\Temp\\ipykernel_11956\\208006686.py:4: UserWarning: FixedFormatter should only be used together with FixedLocator\n",
      "  g.set_yticklabels(ylabels)\n"
     ]
    },
    {
     "data": {
      "text/plain": [
       "Text(0, 0.5, '')"
      ]
     },
     "execution_count": 47,
     "metadata": {},
     "output_type": "execute_result"
    },
    {
     "data": {
      "image/png": "[encoded data removed]",
      "text/plain": [
       "<Figure size 1200x800 with 1 Axes>"
      ]
     },
     "metadata": {},
     "output_type": "display_data"
    }
   ],
   "source": [
    "plt.figure(figsize=(12,8))\n",
    "g = sns.barplot(data=bar_df, x='Rating',y='Average_Revenue')\n",
    "ylabels = ['${:,.0f}'.format(y) for y in g.get_yticks()]\n",
    "g.set_yticklabels(ylabels)\n",
    "plt.title('Average Revenue by Rating Category', fontsize=18)\n",
    "plt.xticks(fontsize=16)\n",
    "plt.yticks(fontsize=14)\n",
    "plt.xlabel('')\n",
    "plt.ylabel('')\n"
   ]
  },
  {
   "cell_type": "markdown",
   "id": "46458550",
   "metadata": {},
   "source": [
    "## This visualization clearly shows that PG movies make the most overall revenue, followed closely by PG-13 and then G. Movies with a rating of \"R\" fall significantly below the other ratings in terms of total revenue"
   ]
  },
  {
   "cell_type": "markdown",
   "id": "49ed9887",
   "metadata": {},
   "source": [
    "# Client question 2: do exceptionally long movies (over 150 minutes) earn more or less money than exceptionally short movies (under 90 minutes)?"
   ]
  },
  {
   "cell_type": "markdown",
   "id": "99b96a55",
   "metadata": {},
   "source": [
    "## Null hypothesis: There is no statistical difference in revenue between long and short movies\n",
    "\n",
    "## Alternate hypothesis: There is statistically significant differences in revenue between long and short movies\n",
    "\n",
    "## Alpha for this test will be .05\n",
    "\n",
    "## Since we will be testing a single variable (revenue) between just two groups we will use a simple T-Test"
   ]
  },
  {
   "cell_type": "code",
   "execution_count": 49,
   "id": "e6c3ff7d",
   "metadata": {},
   "outputs": [
    {
     "data": {
      "image/png": "[encoded data removed]",
      "text/plain": [
       "<Figure size 640x480 with 1 Axes>"
      ]
     },
     "metadata": {},
     "output_type": "display_data"
    }
   ],
   "source": [
    "#Just like before, we will need to create separate pandas series for each group\n",
    "\n",
    "long_df = df.loc[df['runtime']>150]\n",
    "long_revenues = long_df['revenue'].dropna()\n",
    "long_revenues = long_revenues.loc[long_revenues > 0] \n",
    "                            \n",
    "short_df = df.loc[df['runtime']<90]\n",
    "short_revenues = short_df['revenue'].dropna()\n",
    "short_revenues = short_revenues.loc[short_revenues > 0] \n",
    "\n",
    "sns.histplot(data=long_revenues)\n",
    "sns.histplot(data=short_revenues, color=\"red\")\n",
    "plt.show()"
   ]
  },
  {
   "cell_type": "markdown",
   "id": "e4e3dec4",
   "metadata": {},
   "source": [
    "## We once again need to run through our assumption tests\n",
    "\n",
    "## Test 1: No significant outliers"
   ]
  },
  {
   "cell_type": "code",
   "execution_count": 51,
   "id": "a93d2475",
   "metadata": {},
   "outputs": [
    {
     "data": {
      "text/plain": [
       "3"
      ]
     },
     "execution_count": 51,
     "metadata": {},
     "output_type": "execute_result"
    }
   ],
   "source": [
    "#Check long movies for outliers using z_score\n",
    "\n",
    "long_zscores = stats.zscore(long_revenues)\n",
    "long_outliers = abs(long_zscores)>3\n",
    "np.sum(long_outliers)"
   ]
  },
  {
   "cell_type": "code",
   "execution_count": 52,
   "id": "5f9ac249",
   "metadata": {},
   "outputs": [],
   "source": [
    "#Remove our outliers\n",
    "\n",
    "long_revenues = long_revenues[(np.abs(stats.zscore(long_revenues))<3)]"
   ]
  },
  {
   "cell_type": "code",
   "execution_count": 53,
   "id": "b21f174b",
   "metadata": {},
   "outputs": [
    {
     "data": {
      "text/plain": [
       "23"
      ]
     },
     "execution_count": 53,
     "metadata": {},
     "output_type": "execute_result"
    }
   ],
   "source": [
    "#Check short movies for outliers\n",
    "\n",
    "short_zscores = stats.zscore(short_revenues)\n",
    "short_outliers = abs(short_zscores)>3\n",
    "np.sum(short_outliers)"
   ]
  },
  {
   "cell_type": "code",
   "execution_count": 54,
   "id": "e63689d8",
   "metadata": {},
   "outputs": [],
   "source": [
    "#Remove short outliers\n",
    "\n",
    "short_revenues = short_revenues[(np.abs(stats.zscore(short_revenues))<3)]"
   ]
  },
  {
   "cell_type": "markdown",
   "id": "f9e774cd",
   "metadata": {},
   "source": [
    "## Verification 2 - Check for normality"
   ]
  },
  {
   "cell_type": "code",
   "execution_count": 55,
   "id": "8065abc3",
   "metadata": {},
   "outputs": [
    {
     "data": {
      "text/plain": [
       "NormaltestResult(statistic=148.77436731864182, pvalue=4.9437512702906526e-33)"
      ]
     },
     "execution_count": 55,
     "metadata": {},
     "output_type": "execute_result"
    }
   ],
   "source": [
    "#Check long movies for normality\n",
    "\n",
    "long_normality = stats.normaltest(long_revenues)\n",
    "long_normality"
   ]
  },
  {
   "cell_type": "code",
   "execution_count": 56,
   "id": "491c8c32",
   "metadata": {},
   "outputs": [
    {
     "data": {
      "text/plain": [
       "NormaltestResult(statistic=645.7009545478329, pvalue=6.135066013452859e-141)"
      ]
     },
     "execution_count": 56,
     "metadata": {},
     "output_type": "execute_result"
    }
   ],
   "source": [
    "#Check short movies for normality\n",
    "\n",
    "short_normality = stats.normaltest(short_revenues)\n",
    "short_normality"
   ]
  },
  {
   "cell_type": "markdown",
   "id": "4565f677",
   "metadata": {},
   "source": [
    "### With a P-value for both below .05, we can conclude that neither group is normally distributed. With a very high sample count though, we can still continue with the test."
   ]
  },
  {
   "cell_type": "markdown",
   "id": "0e58f29a",
   "metadata": {},
   "source": [
    "## Verification 3 - Check for equal variance"
   ]
  },
  {
   "cell_type": "code",
   "execution_count": 57,
   "id": "d1577c98",
   "metadata": {},
   "outputs": [
    {
     "data": {
      "text/plain": [
       "LeveneResult(statistic=172.4933012107492, pvalue=3.572229745481612e-37)"
      ]
     },
     "execution_count": 57,
     "metadata": {},
     "output_type": "execute_result"
    }
   ],
   "source": [
    "variance_test2 = stats.levene(long_revenues, short_revenues)\n",
    "variance_test2"
   ]
  },
  {
   "cell_type": "markdown",
   "id": "c82dd6bb",
   "metadata": {},
   "source": [
    "### With a p-value of under .05, we can conclude that our two samples do NOT have equal variance. This won't stop us from conducting our test, but we will need to set our equal_var to False when running it"
   ]
  },
  {
   "cell_type": "markdown",
   "id": "f1f01523",
   "metadata": {},
   "source": [
    "## Now we can run our t-test!"
   ]
  },
  {
   "cell_type": "code",
   "execution_count": 58,
   "id": "8f7c33ed",
   "metadata": {},
   "outputs": [
    {
     "data": {
      "text/plain": [
       "Ttest_indResult(statistic=7.238553727982569, pvalue=4.3491444298642965e-12)"
      ]
     },
     "execution_count": 58,
     "metadata": {},
     "output_type": "execute_result"
    }
   ],
   "source": [
    "t_test = stats.ttest_ind(long_revenues, short_revenues, equal_var = False)\n",
    "t_test"
   ]
  },
  {
   "cell_type": "markdown",
   "id": "5adcc9b4",
   "metadata": {},
   "source": [
    "## RESULTS: With a p-value of well under .05, we can reject our null hypothesis and accept that there is clearly a statistically significant difference between the revenues of extremely short and extremely long movies!"
   ]
  },
  {
   "cell_type": "code",
   "execution_count": 60,
   "id": "7faee5f9",
   "metadata": {},
   "outputs": [
    {
     "data": {
      "text/html": [
       "<div>\n",
       "<style scoped>\n",
       "    .dataframe tbody tr th:only-of-type {\n",
       "        vertical-align: middle;\n",
       "    }\n",
       "\n",
       "    .dataframe tbody tr th {\n",
       "        vertical-align: top;\n",
       "    }\n",
       "\n",
       "    .dataframe thead th {\n",
       "        text-align: right;\n",
       "    }\n",
       "</style>\n",
       "<table border=\"1\" class=\"dataframe\">\n",
       "  <thead>\n",
       "    <tr style=\"text-align: right;\">\n",
       "      <th></th>\n",
       "      <th>Average_Revenue</th>\n",
       "      <th>Length</th>\n",
       "    </tr>\n",
       "  </thead>\n",
       "  <tbody>\n",
       "    <tr>\n",
       "      <th>0</th>\n",
       "      <td>2.109906e+07</td>\n",
       "      <td>Short Movies (&lt;90 mins)</td>\n",
       "    </tr>\n",
       "    <tr>\n",
       "      <th>1</th>\n",
       "      <td>1.350477e+08</td>\n",
       "      <td>Long Movies (&gt;150 mins)</td>\n",
       "    </tr>\n",
       "  </tbody>\n",
       "</table>\n",
       "</div>"
      ],
      "text/plain": [
       "   Average_Revenue                   Length\n",
       "0     2.109906e+07  Short Movies (<90 mins)\n",
       "1     1.350477e+08  Long Movies (>150 mins)"
      ]
     },
     "execution_count": 60,
     "metadata": {},
     "output_type": "execute_result"
    }
   ],
   "source": [
    "#Let's show this with a simple visualization\n",
    "\n",
    "short_mean = short_revenues.mean()\n",
    "long_mean = long_revenues.mean()\n",
    "\n",
    "bar2_df = pd.DataFrame([[short_mean,'Short Movies (<90 mins)'],[long_mean,'Long Movies (>150 mins)']], columns=['Average_Revenue','Length'])\n",
    "bar2_df"
   ]
  },
  {
   "cell_type": "code",
   "execution_count": 61,
   "id": "527187c0",
   "metadata": {},
   "outputs": [
    {
     "name": "stderr",
     "output_type": "stream",
     "text": [
      "C:\\Users\\jfabe\\AppData\\Local\\Temp\\ipykernel_11956\\871788298.py:4: UserWarning: FixedFormatter should only be used together with FixedLocator\n",
      "  g.set_yticklabels(ylabels)\n"
     ]
    },
    {
     "data": {
      "text/plain": [
       "Text(0, 0.5, '')"
      ]
     },
     "execution_count": 61,
     "metadata": {},
     "output_type": "execute_result"
    },
    {
     "data": {
      "image/png": "[encoded data removed]",
      "text/plain": [
       "<Figure size 1200x800 with 1 Axes>"
      ]
     },
     "metadata": {},
     "output_type": "display_data"
    }
   ],
   "source": [
    "plt.figure(figsize=(12,8))\n",
    "g = sns.barplot(data=bar2_df, x='Length',y='Average_Revenue')\n",
    "ylabels = ['${:,.0f}'.format(y) for y in g.get_yticks()]\n",
    "g.set_yticklabels(ylabels)\n",
    "plt.title('Average Revenue for Long & Short Movies', fontsize=18)\n",
    "plt.xticks(fontsize=16)\n",
    "plt.yticks(fontsize=14)\n",
    "plt.xlabel('')\n",
    "plt.ylabel('')\n"
   ]
  },
  {
   "cell_type": "markdown",
   "id": "3f65912f",
   "metadata": {},
   "source": [
    "## This one isn't even close! We can see from this visualization that if you're looking to rake in the money, you're much better off making an exceptionally LONG movie (>150 minutes) than trying to squeak by with a really short one (<90 minutes), as there is a ONE HUNDRED MILLION DOLLAR difference between the two averages!"
   ]
  },
  {
   "cell_type": "markdown",
   "id": "c8d8db32",
   "metadata": {},
   "source": [
    "# Final client question 3: do movies released in English generate a significantly different revenue than those movies released in other languages?"
   ]
  },
  {
   "cell_type": "markdown",
   "id": "08d6c892",
   "metadata": {},
   "source": [
    "## Null hypothesis: There is no statistical difference in revenue between movies released in English, and those released in other languages.\n",
    "\n",
    "## Alternate hypothesis: There is statistically significant differences in revenue movies released in English, and those released in other languages.\n",
    "\n",
    "## Alpha for this test will be .05\n",
    "\n",
    "## Since we will once again be testing a single variable (revenue) between just two groups we will use a T-Test again"
   ]
  },
  {
   "cell_type": "code",
   "execution_count": 63,
   "id": "86799045",
   "metadata": {},
   "outputs": [
    {
     "data": {
      "image/png": "[encoded data removed]",
      "text/plain": [
       "<Figure size 640x480 with 1 Axes>"
      ]
     },
     "metadata": {},
     "output_type": "display_data"
    }
   ],
   "source": [
    "#Create separate pandas series for each group\n",
    "\n",
    "english_df = df.loc[df['original_language']==\"en\"]\n",
    "english_revenues = english_df['revenue'].dropna()\n",
    "english_revenues = english_revenues.loc[english_revenues > 0] \n",
    "                            \n",
    "non_english_df = df.loc[df['original_language']!=\"en\"]\n",
    "non_english_revenues = non_english_df['original_language'].dropna()\n",
    "non_english_revenues = non_english_df['revenue'].dropna()\n",
    "non_english_revenues = non_english_revenues.loc[non_english_revenues > 0] \n",
    "\n",
    "sns.histplot(data=english_revenues)\n",
    "sns.histplot(data=non_english_revenues, color=\"red\")\n",
    "plt.show()"
   ]
  },
  {
   "cell_type": "markdown",
   "id": "cc818ef4",
   "metadata": {},
   "source": [
    "## Another run through our assumption tests!\n",
    "\n",
    "## Test 1: No significant outliers"
   ]
  },
  {
   "cell_type": "code",
   "execution_count": 64,
   "id": "adc9bf3a",
   "metadata": {},
   "outputs": [
    {
     "data": {
      "text/plain": [
       "135"
      ]
     },
     "execution_count": 64,
     "metadata": {},
     "output_type": "execute_result"
    }
   ],
   "source": [
    "#Check English movies for outliers\n",
    "\n",
    "english_zscores = stats.zscore(english_revenues)\n",
    "english_outliers = abs(english_zscores)>3\n",
    "np.sum(english_outliers)"
   ]
  },
  {
   "cell_type": "code",
   "execution_count": 65,
   "id": "1c26a17e",
   "metadata": {},
   "outputs": [],
   "source": [
    "#Remove our outliers\n",
    "\n",
    "english_revenues = english_revenues[(np.abs(stats.zscore(english_revenues))<3)]"
   ]
  },
  {
   "cell_type": "code",
   "execution_count": 66,
   "id": "2dcd34ae",
   "metadata": {},
   "outputs": [
    {
     "data": {
      "text/plain": [
       "38"
      ]
     },
     "execution_count": 66,
     "metadata": {},
     "output_type": "execute_result"
    }
   ],
   "source": [
    "#Check non-English movies for outliers\n",
    "\n",
    "non_english_zscores = stats.zscore(non_english_revenues)\n",
    "non_english_outliers = abs(non_english_zscores)>3\n",
    "np.sum(non_english_outliers)"
   ]
  },
  {
   "cell_type": "code",
   "execution_count": 67,
   "id": "75a4d63e",
   "metadata": {},
   "outputs": [],
   "source": [
    "#Remove our outliers\n",
    "\n",
    "non_english_revenues = non_english_revenues[(np.abs(stats.zscore(non_english_revenues))<3)]"
   ]
  },
  {
   "cell_type": "markdown",
   "id": "64e473ce",
   "metadata": {},
   "source": [
    "## Verification 2 - Check for normality"
   ]
  },
  {
   "cell_type": "code",
   "execution_count": 68,
   "id": "42fdff9b",
   "metadata": {},
   "outputs": [
    {
     "data": {
      "text/plain": [
       "NormaltestResult(statistic=2777.256601560509, pvalue=0.0)"
      ]
     },
     "execution_count": 68,
     "metadata": {},
     "output_type": "execute_result"
    }
   ],
   "source": [
    "#Check English movies for normality\n",
    "\n",
    "english_normality = stats.normaltest(english_revenues)\n",
    "english_normality"
   ]
  },
  {
   "cell_type": "code",
   "execution_count": 69,
   "id": "6024f065",
   "metadata": {},
   "outputs": [
    {
     "data": {
      "text/plain": [
       "NormaltestResult(statistic=1811.6722129963302, pvalue=0.0)"
      ]
     },
     "execution_count": 69,
     "metadata": {},
     "output_type": "execute_result"
    }
   ],
   "source": [
    "#Check non-English movies for normality\n",
    "\n",
    "non_english_normality = stats.normaltest(non_english_revenues)\n",
    "non_english_normality"
   ]
  },
  {
   "cell_type": "markdown",
   "id": "a4bb62dc",
   "metadata": {},
   "source": [
    "### With a P-value for both below .05, we can conclude that neither group is normally distributed. We continue to run with high sample counts though, so we can easily continue with our test"
   ]
  },
  {
   "cell_type": "markdown",
   "id": "82c28c2d",
   "metadata": {},
   "source": [
    "## Verification 3 - Check for equal variance"
   ]
  },
  {
   "cell_type": "code",
   "execution_count": 72,
   "id": "9a7fbd20",
   "metadata": {},
   "outputs": [
    {
     "data": {
      "text/plain": [
       "LeveneResult(statistic=555.7027654274085, pvalue=1.1987075705644362e-118)"
      ]
     },
     "execution_count": 72,
     "metadata": {},
     "output_type": "execute_result"
    }
   ],
   "source": [
    "variance_test3 = stats.levene(english_revenues, non_english_revenues)\n",
    "variance_test3"
   ]
  },
  {
   "cell_type": "markdown",
   "id": "4c027777",
   "metadata": {},
   "source": [
    "### With a p-value of under .05, we can conclude once again that our two samples do NOT have equal variance. We will again need to set our equal_var to False when running our T-Test."
   ]
  },
  {
   "cell_type": "markdown",
   "id": "caaf039d",
   "metadata": {},
   "source": [
    "## Let's run our final T-Test!"
   ]
  },
  {
   "cell_type": "code",
   "execution_count": 74,
   "id": "9773695f",
   "metadata": {},
   "outputs": [
    {
     "data": {
      "text/plain": [
       "Ttest_indResult(statistic=31.96714233249518, pvalue=1.2190063696027977e-207)"
      ]
     },
     "execution_count": 74,
     "metadata": {},
     "output_type": "execute_result"
    }
   ],
   "source": [
    "t_test = stats.ttest_ind(english_revenues, non_english_revenues, equal_var = False)\n",
    "t_test"
   ]
  },
  {
   "cell_type": "markdown",
   "id": "33938430",
   "metadata": {},
   "source": [
    "## RESULTS: We are three for three! With a p-value of well under .05, we can reject our null hypothesis and accept that there is clearly a statistically significant difference between movies released in English, and those that are not. Let's make one final simple visualization to show this!"
   ]
  },
  {
   "cell_type": "code",
   "execution_count": 75,
   "id": "9b65ca8e",
   "metadata": {},
   "outputs": [
    {
     "data": {
      "text/html": [
       "<div>\n",
       "<style scoped>\n",
       "    .dataframe tbody tr th:only-of-type {\n",
       "        vertical-align: middle;\n",
       "    }\n",
       "\n",
       "    .dataframe tbody tr th {\n",
       "        vertical-align: top;\n",
       "    }\n",
       "\n",
       "    .dataframe thead th {\n",
       "        text-align: right;\n",
       "    }\n",
       "</style>\n",
       "<table border=\"1\" class=\"dataframe\">\n",
       "  <thead>\n",
       "    <tr style=\"text-align: right;\">\n",
       "      <th></th>\n",
       "      <th>Average_Revenue</th>\n",
       "      <th>Language</th>\n",
       "    </tr>\n",
       "  </thead>\n",
       "  <tbody>\n",
       "    <tr>\n",
       "      <th>0</th>\n",
       "      <td>6.457614e+07</td>\n",
       "      <td>Movies Released in English</td>\n",
       "    </tr>\n",
       "    <tr>\n",
       "      <th>1</th>\n",
       "      <td>1.339072e+07</td>\n",
       "      <td>Movies Released non-English</td>\n",
       "    </tr>\n",
       "  </tbody>\n",
       "</table>\n",
       "</div>"
      ],
      "text/plain": [
       "   Average_Revenue                     Language\n",
       "0     6.457614e+07   Movies Released in English\n",
       "1     1.339072e+07  Movies Released non-English"
      ]
     },
     "execution_count": 75,
     "metadata": {},
     "output_type": "execute_result"
    }
   ],
   "source": [
    "english_mean = english_revenues.mean()\n",
    "non_english_mean = non_english_revenues.mean()\n",
    "\n",
    "bar3_df = pd.DataFrame([[english_mean,'Movies Released in English'],[non_english_mean,'Movies Released non-English']], columns=['Average_Revenue','Language'])\n",
    "bar3_df"
   ]
  },
  {
   "cell_type": "code",
   "execution_count": 76,
   "id": "1ded3c33",
   "metadata": {},
   "outputs": [
    {
     "name": "stderr",
     "output_type": "stream",
     "text": [
      "C:\\Users\\jfabe\\AppData\\Local\\Temp\\ipykernel_11956\\3945102112.py:4: UserWarning: FixedFormatter should only be used together with FixedLocator\n",
      "  g.set_yticklabels(ylabels)\n"
     ]
    },
    {
     "data": {
      "text/plain": [
       "Text(0, 0.5, '')"
      ]
     },
     "execution_count": 76,
     "metadata": {},
     "output_type": "execute_result"
    },
    {
     "data": {
      "image/png": "[encoded data removed]",
      "text/plain": [
       "<Figure size 1200x800 with 1 Axes>"
      ]
     },
     "metadata": {},
     "output_type": "display_data"
    }
   ],
   "source": [
    "plt.figure(figsize=(12,8))\n",
    "g = sns.barplot(data=bar3_df, x='Language',y='Average_Revenue')\n",
    "ylabels = ['${:,.0f}'.format(y) for y in g.get_yticks()]\n",
    "g.set_yticklabels(ylabels)\n",
    "plt.title('Average Revenue for Movies by Language', fontsize=18)\n",
    "plt.xticks(fontsize=16)\n",
    "plt.yticks(fontsize=14)\n",
    "plt.xlabel('')\n",
    "plt.ylabel('')"
   ]
  },
  {
   "cell_type": "markdown",
   "id": "b3a676a0",
   "metadata": {},
   "source": [
    "## Our final visualization shows that our relationship is once again not even close! On average, movies released in English are generating over 60 million in revenue, while those released in other languages are barely above 10 million in revenue. English appears to be the best option when releasing new movies!"
   ]
  },
  {
   "cell_type": "code",
   "execution_count": null,
   "id": "6891c14e",
   "metadata": {},
   "outputs": [],
   "source": []
  }
 ],
 "metadata": {
  "kernelspec": {
   "display_name": "Python (dojo-env)",
   "language": "python",
   "name": "dojo-env"
  },
  "language_info": {
   "codemirror_mode": {
    "name": "ipython",
    "version": 3
   },
   "file_extension": ".py",
   "mimetype": "text/x-python",
   "name": "python",
   "nbconvert_exporter": "python",
   "pygments_lexer": "ipython3",
   "version": "3.8.13"
  },
  "toc": {
   "base_numbering": 1,
   "nav_menu": {},
   "number_sections": false,
   "sideBar": true,
   "skip_h1_title": false,
   "title_cell": "Table of Contents",
   "title_sidebar": "Contents",
   "toc_cell": false,
   "toc_position": {},
   "toc_section_display": true,
   "toc_window_display": false
  }
 },
 "nbformat": 4,
 "nbformat_minor": 5
}
